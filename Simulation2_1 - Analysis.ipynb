{
 "cells": [
  {
   "cell_type": "markdown",
   "metadata": {},
   "source": [
    "# Simulation 2.1 - Analysing\n",
    "\n",
    "\n",
    "## Importing libraries"
   ]
  },
  {
   "cell_type": "code",
   "execution_count": 1,
   "metadata": {},
   "outputs": [],
   "source": [
    "import numpy as np\n",
    "import matplotlib.pyplot as plt\n",
    "from scipy.signal import savgol_filter as SGfilter\n",
    "from IPython.display import clear_output, display\n",
    "import datetime\n",
    "import joblib\n",
    "from tqdm import tqdm\n",
    "\n",
    "import const\n",
    "import utilities as ut\n",
    "\n",
    "\n",
    "import gym\n",
    "import ctfsql\n",
    "from stable_baselines3.common.vec_env import DummyVecEnv\n",
    "from stable_baselines3 import DQN\n",
    "import evaluate as ev"
   ]
  },
  {
   "cell_type": "markdown",
   "metadata": {},
   "source": [
    "## Defining the parameters of the simulations"
   ]
  },
  {
   "cell_type": "code",
   "execution_count": 2,
   "metadata": {},
   "outputs": [],
   "source": [
    "n_simulations = 10\n",
    "n_episodes_training = 10**6\n",
    "n_episodes_test = 10**2"
   ]
  },
  {
   "cell_type": "code",
   "execution_count": 3,
   "metadata": {},
   "outputs": [],
   "source": [
    "env = gym.make('ctfsql-v0')\n",
    "folder = \"\""
   ]
  },
  {
   "cell_type": "markdown",
   "metadata": {},
   "source": [
    "## Reading the models"
   ]
  },
  {
   "cell_type": "code",
   "execution_count": 4,
   "metadata": {},
   "outputs": [
    {
     "name": "stdout",
     "output_type": "stream",
     "text": [
      "<stable_baselines3.dqn.dqn.DQN object at 0x000002C8A6E83D90>\n",
      "<stable_baselines3.dqn.dqn.DQN object at 0x000002C8AAC25A60>\n",
      "<stable_baselines3.dqn.dqn.DQN object at 0x000002C8AAC47F40>\n",
      "<stable_baselines3.dqn.dqn.DQN object at 0x000002C8AAC47EE0>\n",
      "<stable_baselines3.dqn.dqn.DQN object at 0x000002C8AAC7BEB0>\n",
      "<stable_baselines3.dqn.dqn.DQN object at 0x000002C8AAC7BD60>\n",
      "<stable_baselines3.dqn.dqn.DQN object at 0x000002C9274C9CA0>\n",
      "<stable_baselines3.dqn.dqn.DQN object at 0x000002C9274C9B50>\n",
      "<stable_baselines3.dqn.dqn.DQN object at 0x000002C9BC240A90>\n",
      "<stable_baselines3.dqn.dqn.DQN object at 0x000002C9BC240D90>\n"
     ]
    }
   ],
   "source": [
    "dqn_models = []\n",
    "import glob\n",
    "for i in range(n_simulations):\n",
    "    for file in glob.glob(str(i) + \"ignore_simul2*.zip\"):\n",
    "        model = DQN.load(file[:-4])\n",
    "        dqn_models.append(model)\n",
    "        print(model)\n",
    "#dqn_models[i].save(str(i) + 'ignore_simul2_'+timestamp)\n"
   ]
  },
  {
   "cell_type": "code",
   "execution_count": 5,
   "metadata": {},
   "outputs": [],
   "source": [
    "#import evaluate15 as ev2\n",
    "#for i in range(n_simulations):\n",
    "#    mean_reward, _, median_reward = ev2.evaluate_model_deterministic(dqn_models[i], env, num_steps=10**5)\n",
    "#    print('dqn Mean reward: {0} median reward {1}'.format(mean_reward, median_reward))"
   ]
  },
  {
   "cell_type": "code",
   "execution_count": 6,
   "metadata": {},
   "outputs": [],
   "source": [
    "#import evaluate15 as ev2\n",
    "#for i in tqdm(range(n_simulations)):\n",
    "#    mean_reward, _, median_reward = ev2.evaluate_model_nondeter(dqn_models[i], env, num_steps=10**5)\n",
    "#    print('dqn Mean reward: {0} median reward {1}'.format(mean_reward, median_reward))"
   ]
  },
  {
   "cell_type": "code",
   "execution_count": null,
   "metadata": {},
   "outputs": [
    {
     "name": "stdout",
     "output_type": "stream",
     "text": [
      "[4.0, 4.0, 4.0, 6.0, 3.0, 6.0, 7.0, 6.0, 7.0, 5.0, 6.0, 5.0, 9.0, 8.0, 6.0, 4.0, 4.0, 4.0, 7.0, 4.0, 5.0, 3.0, 4.0, 6.0, 7.0, 7.0, 6.0, 5.0, 7.0, 8.0, 3.0, 4.0, 4.0, 4.0, 7.0, 6.0, 5.0, 6.0, 4.0, 6.0, 5.0, 3.0, 4.0, 6.0, 5.0, 8.0, 6.0, 4.0, 5.0, 4.0, 4.0, 2.0, 6.0, 3.0, 7.0, 4.0, 6.0, 5.0, 5.0, 5.0, 8.0, 8.0, 8.0, 4.0, 6.0, 6.0, 5.0, 5.0, 5.0, 3.0, 6.0, 8.0, 4.0, 4.0, 4.0, 5.0, 7.0, 5.0, 8.0, 7.0, 5.0, 6.0, 3.0, 3.0, 5.0, 7.0, 7.0, 7.0, 6.0, 4.0, 5.0, 7.0, 5.0, 3.0, 7.0, 4.0, 5.0, 5.0, 4.0, 8.0, 5.0, 8.0, 8.0, 7.0, 8.0, 5.0, 9.0, 5.0, 5.0, 4.0, 5.0, 6.0, 5.0, 8.0, 8.0, 5.0, 6.0, 5.0, 7.0, 8.0, 3.0, 4.0, 7.0, 6.0, 5.0, 7.0, 4.0, 6.0, 3.0, 4.0, 5.0, 7.0, 5.0, 2.0, 4.0, 5.0, 6.0, 7.0, 8.0, 7.0, 5.0, 5.0, 6.0, 8.0, 5.0, 7.0, 6.0, 7.0, 7.0, 5.0, 5.0, 3.0, 6.0, 6.0, 4.0, 4.0, 4.0, 8.0, 5.0, 6.0, 4.0, 7.0, 6.0, 3.0, 5.0, 8.0, 4.0, 3.0, 7.0, 7.0, 5.0, 4.0, 3.0, 6.0, 7.0, 7.0, 4.0, 4.0, 2.0, 7.0, -2.0]\n"
     ]
    }
   ],
   "source": [
    "import evaluate17 as ev2\n",
    "#for i in tqdm(range(n_simulations)):\n",
    "ev2.plot_evaluation(dqn_models[i], env, num_steps=10**3)\n"
   ]
  },
  {
   "cell_type": "code",
   "execution_count": 1,
   "metadata": {},
   "outputs": [
    {
     "data": {
      "text/plain": [
       "[<matplotlib.lines.Line2D at 0x17cfbca3520>]"
      ]
     },
     "execution_count": 1,
     "metadata": {},
     "output_type": "execute_result"
    },
    {
     "data": {
      "image/png": "[encoded data removed]",
      "text/plain": [
       "<Figure size 432x288 with 1 Axes>"
      ]
     },
     "metadata": {
      "needs_background": "light"
     },
     "output_type": "display_data"
    }
   ],
   "source": [
    "import matplotlib.pyplot as plt\n",
    "plt.plot([2,3,4,5,6,7,1])"
   ]
  },
  {
   "cell_type": "code",
   "execution_count": null,
   "metadata": {},
   "outputs": [],
   "source": []
  },
  {
   "cell_type": "code",
   "execution_count": null,
   "metadata": {},
   "outputs": [],
   "source": []
  },
  {
   "cell_type": "code",
   "execution_count": null,
   "metadata": {},
   "outputs": [],
   "source": []
  },
  {
   "cell_type": "code",
   "execution_count": null,
   "metadata": {},
   "outputs": [],
   "source": []
  },
  {
   "cell_type": "code",
   "execution_count": null,
   "metadata": {},
   "outputs": [],
   "source": []
  },
  {
   "cell_type": "code",
   "execution_count": null,
   "metadata": {},
   "outputs": [],
   "source": []
  }
 ],
 "metadata": {
  "kernelspec": {
   "display_name": "Python 3",
   "language": "python",
   "name": "python3"
  },
  "language_info": {
   "codemirror_mode": {
    "name": "ipython",
    "version": 3
   },
   "file_extension": ".py",
   "mimetype": "text/x-python",
   "name": "python",
   "nbconvert_exporter": "python",
   "pygments_lexer": "ipython3",
   "version": "3.8.5"
  }
 },
 "nbformat": 4,
 "nbformat_minor": 4
}
