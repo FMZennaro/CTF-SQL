{
 "cells": [
  {
   "cell_type": "markdown",
   "metadata": {},
   "source": [
    "## Environment\n",
    "\n",
    "Loading the environment"
   ]
  },
  {
   "cell_type": "code",
   "execution_count": 2,
   "metadata": {},
   "outputs": [],
   "source": [
    "import SQLenv"
   ]
  },
  {
   "cell_type": "code",
   "execution_count": 3,
   "metadata": {},
   "outputs": [],
   "source": [
    "env = SQLenv.SQLenv()"
   ]
  },
  {
   "cell_type": "markdown",
   "metadata": {},
   "source": [
    "The environment has three useful attributes:\n",
    "- **schema**: a list containing an int array for each table; the value in the array specify the type of the columns (types are specified in *const.py*)\n",
    "- **data**: a dictionary containing a list of rows for each table;\n",
    "- **originalquery**: the string used to access the database\n",
    "\n",
    "These attributes are for our use only, the agent **DOES NOT** have access to any."
   ]
  },
  {
   "cell_type": "code",
   "execution_count": 6,
   "metadata": {},
   "outputs": [
    {
     "data": {
      "text/plain": [
       "[array([0, 0, 0, 0]), array([0, 0]), array([1])]"
      ]
     },
     "execution_count": 6,
     "metadata": {},
     "output_type": "execute_result"
    }
   ],
   "source": [
    "env.schema"
   ]
  },
  {
   "cell_type": "code",
   "execution_count": 7,
   "metadata": {},
   "outputs": [
    {
     "data": {
      "text/plain": [
       "{'Table0': [[61, 71, 79, 59], [90, 5, 34, 28], [61, 69, 25, 49]],\n",
       " 'Table1': [[46, 51], [18, 27]],\n",
       " 'Table2': [['flag']]}"
      ]
     },
     "execution_count": 7,
     "metadata": {},
     "output_type": "execute_result"
    }
   ],
   "source": [
    "env.data"
   ]
  },
  {
   "cell_type": "code",
   "execution_count": 8,
   "metadata": {},
   "outputs": [
    {
     "data": {
      "text/plain": [
       "'Select Column1 from Table1 where Column0>input;'"
      ]
     },
     "execution_count": 8,
     "metadata": {},
     "output_type": "execute_result"
    }
   ],
   "source": [
    "env.originalquery"
   ]
  },
  {
   "cell_type": "markdown",
   "metadata": {},
   "source": [
    "**TODO:** Sometimes original query misses the Column. Need to fix the code\n",
    "\n",
    "The environment receives an action *a* to the method *step*. The action *a* is the string (SQL statement) chosen by the agent that replaces *input* in the original query."
   ]
  },
  {
   "cell_type": "code",
   "execution_count": 9,
   "metadata": {},
   "outputs": [
    {
     "name": "stdout",
     "output_type": "stream",
     "text": [
      "Received query: Select Column1 from Table1 where Column0>1==1;\n"
     ]
    },
    {
     "data": {
      "text/plain": [
       "(None, -1, False, ['Action performed'])"
      ]
     },
     "execution_count": 9,
     "metadata": {},
     "output_type": "execute_result"
    }
   ],
   "source": [
    "env.step('1==1')"
   ]
  },
  {
   "cell_type": "markdown",
   "metadata": {},
   "source": [
    "*env.step(a)* returns:\n",
    "- **state**: the new state, or simply the output of the sql processing. At the moment it is *None* because we have not defined states.\n",
    "- **reward**: currently -1\n",
    "- **termination**: whether the objective has been reached\n",
    "- **msg**: a list of any sort of debug message we want to pass"
   ]
  },
  {
   "cell_type": "markdown",
   "metadata": {},
   "source": [
    "*env* also has a default *reset()* method to restart the game."
   ]
  },
  {
   "cell_type": "markdown",
   "metadata": {},
   "source": [
    "## Agent\n",
    "\n",
    "The agent should interact with the above environment by sending action using *env.step()* and processing the result in its own Q-table."
   ]
  },
  {
   "cell_type": "code",
   "execution_count": null,
   "metadata": {},
   "outputs": [],
   "source": []
  }
 ],
 "metadata": {
  "kernelspec": {
   "display_name": "Python 3",
   "language": "python",
   "name": "python3"
  },
  "language_info": {
   "codemirror_mode": {
    "name": "ipython",
    "version": 3
   },
   "file_extension": ".py",
   "mimetype": "text/x-python",
   "name": "python",
   "nbconvert_exporter": "python",
   "pygments_lexer": "ipython3",
   "version": "3.8.3"
  }
 },
 "nbformat": 4,
 "nbformat_minor": 4
}
