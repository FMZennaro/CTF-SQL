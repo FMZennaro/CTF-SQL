{
 "cells": [
  {
   "cell_type": "markdown",
   "metadata": {},
   "source": [
    "We import *const* to have a listing of the possible actions"
   ]
  },
  {
   "cell_type": "code",
   "execution_count": 1,
   "metadata": {
    "collapsed": true
   },
   "outputs": [],
   "source": [
    "import const"
   ]
  },
  {
   "cell_type": "markdown",
   "metadata": {},
   "source": [
    "## Environment"
   ]
  },
  {
   "cell_type": "markdown",
   "metadata": {},
   "source": [
    "We import and instantiate a mock SQL server"
   ]
  },
  {
   "cell_type": "code",
   "execution_count": 2,
   "metadata": {},
   "outputs": [
    {
     "ename": "TabError",
     "evalue": "inconsistent use of tabs and spaces in indentation (mockSQLenv.py, line 15)",
     "output_type": "error",
     "traceback": [
      "Traceback \u001b[1;36m(most recent call last)\u001b[0m:\n",
      "  File \u001b[0;32m\"C:\\Anaconda3\\lib\\site-packages\\IPython\\core\\interactiveshell.py\"\u001b[0m, line \u001b[0;32m2862\u001b[0m, in \u001b[0;35mrun_code\u001b[0m\n    exec(code_obj, self.user_global_ns, self.user_ns)\n",
      "\u001b[1;36m  File \u001b[1;32m\"<ipython-input-2-5d10c622fa93>\"\u001b[1;36m, line \u001b[1;32m1\u001b[1;36m, in \u001b[1;35m<module>\u001b[1;36m\u001b[0m\n\u001b[1;33m    import mockSQLenv\u001b[0m\n",
      "\u001b[1;36m  File \u001b[1;32m\"C:\\Users\\aavalds\\Documents\\Studies\\PhD\\papers\\CTF-RL\\CTF-SQL\\mockSQLenv.py\"\u001b[1;36m, line \u001b[1;32m15\u001b[0m\n\u001b[1;33m    self.flag_cols = f\u001b[0m\n\u001b[1;37m                      ^\u001b[0m\n\u001b[1;31mTabError\u001b[0m\u001b[1;31m:\u001b[0m inconsistent use of tabs and spaces in indentation\n"
     ]
    }
   ],
   "source": [
    "import mockSQLenv\n",
    "\n",
    "env = mockSQLenv.mockSQLenv(verbose=True)"
   ]
  },
  {
   "cell_type": "markdown",
   "metadata": {},
   "source": [
    "For debugging, you can check the correct escape-probing actions and the correct SQL injection using the *reveal_solution()* method."
   ]
  },
  {
   "cell_type": "code",
   "execution_count": 3,
   "metadata": {},
   "outputs": [
    {
     "name": "stdout",
     "output_type": "stream",
     "text": [
      "Correct escapes are: \n",
      " [0]: \" and \"1\"=\"1 \n",
      " [1]: \" and \"1\"=\"2\n",
      "Correct SQL injection is: \n",
      " [14]: \" union select flag,flag,flag from Flagtable limit 1 offset 2#\n"
     ]
    }
   ],
   "source": [
    "env.reveal_solution()"
   ]
  },
  {
   "cell_type": "markdown",
   "metadata": {},
   "source": [
    "The mock server accepts actions through the *step()* method. By default it takes the integer of the action you want to perform (from *const.actions*); you can also pass the actual string using the parameter *action_string*. "
   ]
  },
  {
   "cell_type": "code",
   "execution_count": 4,
   "metadata": {},
   "outputs": [
    {
     "name": "stdout",
     "output_type": "stream",
     "text": [
      "I received action 2: \" union select 1#\n",
      "Query is not syntactically wrong, but does not return anything interesting. I return 0\n"
     ]
    },
    {
     "data": {
      "text/plain": [
       "(0, -1, False, 'Answer is 0')"
      ]
     },
     "execution_count": 4,
     "metadata": {},
     "output_type": "execute_result"
    }
   ],
   "source": [
    "env.step(2)"
   ]
  },
  {
   "cell_type": "code",
   "execution_count": 5,
   "metadata": {},
   "outputs": [
    {
     "name": "stdout",
     "output_type": "stream",
     "text": [
      "I received action 2: \" union select 1#\n",
      "Query is not syntactically wrong, but does not return anything interesting. I return 0\n"
     ]
    },
    {
     "data": {
      "text/plain": [
       "(0, -1, False, 'Answer is 0')"
      ]
     },
     "execution_count": 5,
     "metadata": {},
     "output_type": "execute_result"
    }
   ],
   "source": [
    "env.step(action_number=2)"
   ]
  },
  {
   "cell_type": "code",
   "execution_count": 6,
   "metadata": {},
   "outputs": [
    {
     "name": "stdout",
     "output_type": "stream",
     "text": [
      "I received action 2: \" union select 1#\n",
      "Query is not syntactically wrong, but does not return anything interesting. I return 0\n"
     ]
    },
    {
     "data": {
      "text/plain": [
       "(0, -1, False, 'Answer is 0')"
      ]
     },
     "execution_count": 6,
     "metadata": {},
     "output_type": "execute_result"
    }
   ],
   "source": [
    "env.step(action_string='\" union select 1#')"
   ]
  },
  {
   "cell_type": "markdown",
   "metadata": {},
   "source": [
    "**Beware**: There is no check in place for the inputs! O_O"
   ]
  },
  {
   "cell_type": "markdown",
   "metadata": {},
   "source": [
    "The output of step is always *state*, *reward*, *termination state* and *auxiliary/debug messages*.\n",
    "The state variable return the actual output:\n",
    "- 1: first correct escape character probing\n",
    "- 2: second correct escape character probing\n",
    "- 3: flag!\n",
    "- 0: correct use of escape characters, but no useful result\n",
    "- -1: wrong use of escape characters, syntax error "
   ]
  },
  {
   "cell_type": "code",
   "execution_count": 7,
   "metadata": {},
   "outputs": [
    {
     "name": "stdout",
     "output_type": "stream",
     "text": [
      "I received action 12: \" union select flag from Flagtable limit 1 offset 2#\n",
      "Query is not syntactically wrong, but does not return anything interesting. I return 0\n"
     ]
    },
    {
     "data": {
      "text/plain": [
       "(0, -1, False, 'Answer is 0')"
      ]
     },
     "execution_count": 7,
     "metadata": {},
     "output_type": "execute_result"
    }
   ],
   "source": [
    "env.step(12)"
   ]
  },
  {
   "cell_type": "markdown",
   "metadata": {},
   "source": [
    "After getting the flag you can restart the server using *reset()*. This does **NOT** instantiate a new random SQL query, but it uses the same one. To have a new query instantiate a new environment."
   ]
  }
 ],
 "metadata": {
  "kernelspec": {
   "display_name": "Python 3",
   "language": "python",
   "name": "python3"
  },
  "language_info": {
   "codemirror_mode": {
    "name": "ipython",
    "version": 3
   },
   "file_extension": ".py",
   "mimetype": "text/x-python",
   "name": "python",
   "nbconvert_exporter": "python",
   "pygments_lexer": "ipython3",
   "version": "3.6.3"
  }
 },
 "nbformat": 4,
 "nbformat_minor": 4
}
