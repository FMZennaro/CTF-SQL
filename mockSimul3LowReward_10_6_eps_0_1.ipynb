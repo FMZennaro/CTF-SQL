{
 "cells": [
  {
   "cell_type": "markdown",
   "metadata": {},
   "source": [
    "## Importing Libraries\n",
    "\n",
    "We basic libraries and modules for our simulation"
   ]
  },
  {
   "cell_type": "code",
   "execution_count": 1,
   "metadata": {},
   "outputs": [],
   "source": [
    "import numpy as np\n",
    "import matplotlib.pyplot as plt\n",
    "from scipy.signal import savgol_filter as SGfilter\n",
    "from IPython.display import clear_output\n",
    "import datetime\n",
    "import joblib\n",
    "from tqdm import tqdm\n",
    "\n",
    "import const\n",
    "import utilities as ut\n",
    "import mockSQLenv_low_reward as SQLenv\n",
    "import agent2 as agn"
   ]
  },
  {
   "cell_type": "markdown",
   "metadata": {},
   "source": [
    "## Setting up the model\n",
    "\n",
    "We set up our environment."
   ]
  },
  {
   "cell_type": "code",
   "execution_count": 2,
   "metadata": {},
   "outputs": [
    {
     "name": "stdout",
     "output_type": "stream",
     "text": [
      "Game setup with a random query\n"
     ]
    }
   ],
   "source": [
    "env = SQLenv.mockSQLenv(verbose=True)"
   ]
  },
  {
   "cell_type": "markdown",
   "metadata": {},
   "source": [
    "We instantiate an agent and look at its starting Q-table."
   ]
  },
  {
   "cell_type": "code",
   "execution_count": 3,
   "metadata": {},
   "outputs": [
    {
     "name": "stdout",
     "output_type": "stream",
     "text": [
      "{(): array([1., 1., 1., 1., 1., 1., 1., 1., 1., 1., 1., 1., 1., 1., 1., 1., 1.,\n",
      "       1., 1., 1., 1., 1., 1., 1., 1., 1., 1., 1., 1., 1., 1., 1., 1., 1.,\n",
      "       1., 1., 1., 1., 1., 1., 1., 1., 1., 1., 1., 1., 1., 1., 1., 1., 1.])}\n",
      "0 / 0\n"
     ]
    }
   ],
   "source": [
    "agt = agn.Agent(const.actions)\n",
    "agt.set_learning_options(exploration=0.1, \n",
    "                         learningrate=0.1, \n",
    "                         discount=0.9, max_step = 1000)\n",
    "print(agt.Q)\n",
    "print(agt.total_successes, \"/\", agt.total_trials)"
   ]
  },
  {
   "cell_type": "markdown",
   "metadata": {},
   "source": [
    "## Running the model\n",
    "\n",
    "We run an agent on our environment."
   ]
  },
  {
   "cell_type": "code",
   "execution_count": 4,
   "metadata": {},
   "outputs": [
    {
     "name": "stdout",
     "output_type": "stream",
     "text": [
      "Game reset (but not reinitialized with a new random query!)\n",
      "Game reset\n",
      "I received action 22: ' union select 1,2 limit 1 offset 1#\n",
      "Query is syntactically wrong. I return -1\n",
      "Server response is -1\n",
      "I received action 0: \" and \"1\"=\"1\n",
      "Correct exploratory action for the escape. I return 1\n",
      "Server response is 1\n",
      "I received action 0: \" and \"1\"=\"1\n",
      "Correct exploratory action for the escape. I return 1\n",
      "Server response is 1\n",
      "I received action 1: \" and \"1\"=\"2\n",
      "Correct exploratory action for the escape. I return 2\n",
      "Server response is 2\n",
      "I received action 39:  union select 1,2 limit 1 offset 1#\n",
      "Query is syntactically wrong. I return -1\n",
      "Server response is -1\n",
      "I received action 0: \" and \"1\"=\"1\n",
      "Correct exploratory action for the escape. I return 1\n",
      "Server response is 1\n",
      "I received action 1: \" and \"1\"=\"2\n",
      "Correct exploratory action for the escape. I return 2\n",
      "Server response is 2\n",
      "I received action 2: \" union select 1#\n",
      "Query has the correct escape, but contains the wrong number of rows. I return 0\n",
      "Server response is 0\n",
      "I received action 0: \" and \"1\"=\"1\n",
      "Correct exploratory action for the escape. I return 1\n",
      "Server response is 1\n",
      "I received action 1: \" and \"1\"=\"2\n",
      "Correct exploratory action for the escape. I return 2\n",
      "Server response is 2\n",
      "I received action 2: \" union select 1#\n",
      "Query has the correct escape, but contains the wrong number of rows. I return 0\n",
      "Server response is 0\n",
      "I received action 3: \" union select 1 limit 1 offset 1#\n",
      "Query has the correct escape, but contains the wrong number of rows. I return 0\n",
      "Server response is 0\n",
      "I received action 0: \" and \"1\"=\"1\n",
      "Correct exploratory action for the escape. I return 1\n",
      "Server response is 1\n",
      "I received action 1: \" and \"1\"=\"2\n",
      "Correct exploratory action for the escape. I return 2\n",
      "Server response is 2\n",
      "I received action 2: \" union select 1#\n",
      "Query has the correct escape, but contains the wrong number of rows. I return 0\n",
      "Server response is 0\n",
      "I received action 3: \" union select 1 limit 1 offset 1#\n",
      "Query has the correct escape, but contains the wrong number of rows. I return 0\n",
      "Server response is 0\n",
      "I received action 4: \" union select 1,2#\n",
      "Query with correct number of rows\n",
      "Server response is 4\n",
      "I received action 2: \" union select 1#\n",
      "Query has the correct escape, but contains the wrong number of rows. I return 0\n",
      "Server response is 0\n",
      "I received action 0: \" and \"1\"=\"1\n",
      "Correct exploratory action for the escape. I return 1\n",
      "Server response is 1\n",
      "I received action 1: \" and \"1\"=\"2\n",
      "Correct exploratory action for the escape. I return 2\n",
      "Server response is 2\n",
      "I received action 3: \" union select 1 limit 1 offset 1#\n",
      "Query has the correct escape, but contains the wrong number of rows. I return 0\n",
      "Server response is 0\n",
      "I received action 4: \" union select 1,2#\n",
      "Query with correct number of rows\n",
      "Server response is 4\n",
      "I received action 5: \" union select 1,2 limit 1 offset 1#\n",
      "Query with correct number of rows\n",
      "Server response is 4\n",
      "I received action 3: \" union select 1 limit 1 offset 1#\n",
      "Query has the correct escape, but contains the wrong number of rows. I return 0\n",
      "Server response is 0\n",
      "I received action 0: \" and \"1\"=\"1\n",
      "Correct exploratory action for the escape. I return 1\n",
      "Server response is 1\n",
      "I received action 1: \" and \"1\"=\"2\n",
      "Correct exploratory action for the escape. I return 2\n",
      "Server response is 2\n",
      "I received action 2: \" union select 1#\n",
      "Query has the correct escape, but contains the wrong number of rows. I return 0\n",
      "Server response is 0\n",
      "I received action 4: \" union select 1,2#\n",
      "Query with correct number of rows\n",
      "Server response is 4\n",
      "I received action 5: \" union select 1,2 limit 1 offset 1#\n",
      "Query with correct number of rows\n",
      "Server response is 4\n",
      "I received action 6: \" union select 1,2,3#\n",
      "Query has the correct escape, but contains the wrong number of rows. I return 0\n",
      "Server response is 0\n",
      "I received action 0: \" and \"1\"=\"1\n",
      "Correct exploratory action for the escape. I return 1\n",
      "Server response is 1\n",
      "I received action 1: \" and \"1\"=\"2\n",
      "Correct exploratory action for the escape. I return 2\n",
      "Server response is 2\n",
      "I received action 2: \" union select 1#\n",
      "Query has the correct escape, but contains the wrong number of rows. I return 0\n",
      "Server response is 0\n",
      "I received action 3: \" union select 1 limit 1 offset 1#\n",
      "Query has the correct escape, but contains the wrong number of rows. I return 0\n",
      "Server response is 0\n",
      "I received action 4: \" union select 1,2#\n",
      "Query with correct number of rows\n",
      "Server response is 4\n",
      "I received action 5: \" union select 1,2 limit 1 offset 1#\n",
      "Query with correct number of rows\n",
      "Server response is 4\n",
      "I received action 6: \" union select 1,2,3#\n",
      "Query has the correct escape, but contains the wrong number of rows. I return 0\n",
      "Server response is 0\n",
      "I received action 7: \" union select 1,2,3 limit 1 offset 1#\n",
      "Query has the correct escape, but contains the wrong number of rows. I return 0\n",
      "Server response is 0\n",
      "I received action 0: \" and \"1\"=\"1\n",
      "Correct exploratory action for the escape. I return 1\n",
      "Server response is 1\n",
      "I received action 1: \" and \"1\"=\"2\n",
      "Correct exploratory action for the escape. I return 2\n",
      "Server response is 2\n",
      "I received action 2: \" union select 1#\n",
      "Query has the correct escape, but contains the wrong number of rows. I return 0\n",
      "Server response is 0\n",
      "I received action 3: \" union select 1 limit 1 offset 1#\n",
      "Query has the correct escape, but contains the wrong number of rows. I return 0\n",
      "Server response is 0\n",
      "I received action 4: \" union select 1,2#\n",
      "Query with correct number of rows\n",
      "Server response is 4\n",
      "I received action 5: \" union select 1,2 limit 1 offset 1#\n",
      "Query with correct number of rows\n",
      "Server response is 4\n",
      "I received action 6: \" union select 1,2,3#\n",
      "Query has the correct escape, but contains the wrong number of rows. I return 0\n",
      "Server response is 0\n",
      "I received action 7: \" union select 1,2,3 limit 1 offset 1#\n",
      "Query has the correct escape, but contains the wrong number of rows. I return 0\n",
      "Server response is 0\n",
      "I received action 8: \" union select 1,2,3,4#\n",
      "Query has the correct escape, but contains the wrong number of rows. I return 0\n",
      "Server response is 0\n",
      "I received action 0: \" and \"1\"=\"1\n",
      "Correct exploratory action for the escape. I return 1\n",
      "Server response is 1\n",
      "I received action 10: \" union select 1,2,3,4,5#\n",
      "Query has the correct escape, but contains the wrong number of rows. I return 0\n",
      "Server response is 0\n",
      "I received action 0: \" and \"1\"=\"1\n",
      "Correct exploratory action for the escape. I return 1\n",
      "Server response is 1\n",
      "I received action 1: \" and \"1\"=\"2\n",
      "Correct exploratory action for the escape. I return 2\n",
      "Server response is 2\n",
      "I received action 2: \" union select 1#\n",
      "Query has the correct escape, but contains the wrong number of rows. I return 0\n",
      "Server response is 0\n",
      "I received action 3: \" union select 1 limit 1 offset 1#\n",
      "Query has the correct escape, but contains the wrong number of rows. I return 0\n",
      "Server response is 0\n",
      "I received action 33: ' union select flag,flag,flag,flag,flag from Flagtable limit 1 offset 2#\n",
      "Query is syntactically wrong. I return -1\n",
      "Server response is -1\n",
      "I received action 0: \" and \"1\"=\"1\n",
      "Correct exploratory action for the escape. I return 1\n",
      "Server response is 1\n",
      "I received action 1: \" and \"1\"=\"2\n",
      "Correct exploratory action for the escape. I return 2\n",
      "Server response is 2\n",
      "I received action 2: \" union select 1#\n",
      "Query has the correct escape, but contains the wrong number of rows. I return 0\n",
      "Server response is 0\n",
      "I received action 3: \" union select 1 limit 1 offset 1#\n",
      "Query has the correct escape, but contains the wrong number of rows. I return 0\n",
      "Server response is 0\n",
      "I received action 4: \" union select 1,2#\n",
      "Query with correct number of rows\n",
      "Server response is 4\n",
      "I received action 5: \" union select 1,2 limit 1 offset 1#\n",
      "Query with correct number of rows\n",
      "Server response is 4\n",
      "I received action 6: \" union select 1,2,3#\n",
      "Query has the correct escape, but contains the wrong number of rows. I return 0\n",
      "Server response is 0\n",
      "I received action 7: \" union select 1,2,3 limit 1 offset 1#\n",
      "Query has the correct escape, but contains the wrong number of rows. I return 0\n",
      "Server response is 0\n",
      "I received action 8: \" union select 1,2,3,4#\n",
      "Query has the correct escape, but contains the wrong number of rows. I return 0\n",
      "Server response is 0\n",
      "I received action 9: \" union select 1,2,3,4 limit 1 offset 1#\n",
      "Query has the correct escape, but contains the wrong number of rows. I return 0\n",
      "Server response is 0\n",
      "I received action 0: \" and \"1\"=\"1\n",
      "Correct exploratory action for the escape. I return 1\n",
      "Server response is 1\n",
      "I received action 1: \" and \"1\"=\"2\n",
      "Correct exploratory action for the escape. I return 2\n",
      "Server response is 2\n",
      "I received action 2: \" union select 1#\n",
      "Query has the correct escape, but contains the wrong number of rows. I return 0\n",
      "Server response is 0\n",
      "I received action 3: \" union select 1 limit 1 offset 1#\n",
      "Query has the correct escape, but contains the wrong number of rows. I return 0\n",
      "Server response is 0\n",
      "I received action 4: \" union select 1,2#\n",
      "Query with correct number of rows\n",
      "Server response is 4\n",
      "I received action 5: \" union select 1,2 limit 1 offset 1#\n",
      "Query with correct number of rows\n",
      "Server response is 4\n",
      "I received action 6: \" union select 1,2,3#\n",
      "Query has the correct escape, but contains the wrong number of rows. I return 0\n",
      "Server response is 0\n",
      "I received action 41:  union select 1,2,3 limit 1 offset 1#\n",
      "Query is syntactically wrong. I return -1\n",
      "Server response is -1\n",
      "I received action 0: \" and \"1\"=\"1\n",
      "Correct exploratory action for the escape. I return 1\n",
      "Server response is 1\n",
      "I received action 1: \" and \"1\"=\"2\n",
      "Correct exploratory action for the escape. I return 2\n",
      "Server response is 2\n",
      "I received action 42:  union select 1,2,3,4#\n",
      "Query is syntactically wrong. I return -1\n",
      "Server response is -1\n",
      "I received action 0: \" and \"1\"=\"1\n",
      "Correct exploratory action for the escape. I return 1\n",
      "Server response is 1\n",
      "I received action 1: \" and \"1\"=\"2\n",
      "Correct exploratory action for the escape. I return 2\n",
      "Server response is 2\n",
      "I received action 2: \" union select 1#\n",
      "Query has the correct escape, but contains the wrong number of rows. I return 0\n",
      "Server response is 0\n",
      "I received action 3: \" union select 1 limit 1 offset 1#\n",
      "Query has the correct escape, but contains the wrong number of rows. I return 0\n",
      "Server response is 0\n",
      "I received action 4: \" union select 1,2#\n",
      "Query with correct number of rows\n",
      "Server response is 4\n",
      "I received action 5: \" union select 1,2 limit 1 offset 1#\n",
      "Query with correct number of rows\n",
      "Server response is 4\n",
      "I received action 6: \" union select 1,2,3#\n",
      "Query has the correct escape, but contains the wrong number of rows. I return 0\n",
      "Server response is 0\n",
      "I received action 7: \" union select 1,2,3 limit 1 offset 1#\n",
      "Query has the correct escape, but contains the wrong number of rows. I return 0\n",
      "Server response is 0\n",
      "I received action 8: \" union select 1,2,3,4#\n",
      "Query has the correct escape, but contains the wrong number of rows. I return 0\n",
      "Server response is 0\n",
      "I received action 9: \" union select 1,2,3,4 limit 1 offset 1#\n",
      "Query has the correct escape, but contains the wrong number of rows. I return 0\n",
      "Server response is 0\n",
      "I received action 10: \" union select 1,2,3,4,5#\n",
      "Query has the correct escape, but contains the wrong number of rows. I return 0\n",
      "Server response is 0\n",
      "I received action 11: \" union select 1,2,3,4,5 limit 1 offset 1#\n",
      "Query has the correct escape, but contains the wrong number of rows. I return 0\n",
      "Server response is 0\n",
      "I received action 0: \" and \"1\"=\"1\n",
      "Correct exploratory action for the escape. I return 1\n",
      "Server response is 1\n",
      "I received action 1: \" and \"1\"=\"2\n",
      "Correct exploratory action for the escape. I return 2\n",
      "Server response is 2\n",
      "I received action 2: \" union select 1#\n",
      "Query has the correct escape, but contains the wrong number of rows. I return 0\n",
      "Server response is 0\n",
      "I received action 3: \" union select 1 limit 1 offset 1#\n",
      "Query has the correct escape, but contains the wrong number of rows. I return 0\n",
      "Server response is 0\n",
      "I received action 4: \" union select 1,2#\n",
      "Query with correct number of rows\n",
      "Server response is 4\n",
      "I received action 5: \" union select 1,2 limit 1 offset 1#\n",
      "Query with correct number of rows\n",
      "Server response is 4\n",
      "I received action 12: \" union select flag from Flagtable limit 1 offset 2#\n",
      "Query has the correct escape, but contains the wrong number of rows. I return 0\n",
      "Server response is 0\n",
      "I received action 0: \" and \"1\"=\"1\n",
      "Correct exploratory action for the escape. I return 1\n",
      "Server response is 1\n",
      "I received action 1: \" and \"1\"=\"2\n",
      "Correct exploratory action for the escape. I return 2\n",
      "Server response is 2\n",
      "I received action 2: \" union select 1#\n",
      "Query has the correct escape, but contains the wrong number of rows. I return 0\n",
      "Server response is 0\n",
      "I received action 3: \" union select 1 limit 1 offset 1#\n",
      "Query has the correct escape, but contains the wrong number of rows. I return 0\n",
      "Server response is 0\n",
      "I received action 4: \" union select 1,2#\n",
      "Query with correct number of rows\n",
      "Server response is 4\n",
      "I received action 5: \" union select 1,2 limit 1 offset 1#\n",
      "Query with correct number of rows\n",
      "Server response is 4\n",
      "I received action 22: ' union select 1,2 limit 1 offset 1#\n",
      "Query is syntactically wrong. I return -1\n",
      "Server response is -1\n",
      "I received action 6: \" union select 1,2,3#\n",
      "Query has the correct escape, but contains the wrong number of rows. I return 0\n",
      "Server response is 0\n",
      "I received action 7: \" union select 1,2,3 limit 1 offset 1#\n",
      "Query has the correct escape, but contains the wrong number of rows. I return 0\n",
      "Server response is 0\n",
      "I received action 8: \" union select 1,2,3,4#\n",
      "Query has the correct escape, but contains the wrong number of rows. I return 0\n",
      "Server response is 0\n",
      "I received action 9: \" union select 1,2,3,4 limit 1 offset 1#\n",
      "Query has the correct escape, but contains the wrong number of rows. I return 0\n",
      "Server response is 0\n",
      "I received action 10: \" union select 1,2,3,4,5#\n",
      "Query has the correct escape, but contains the wrong number of rows. I return 0\n",
      "Server response is 0\n",
      "I received action 11: \" union select 1,2,3,4,5 limit 1 offset 1#\n",
      "Query has the correct escape, but contains the wrong number of rows. I return 0\n",
      "Server response is 0\n",
      "I received action 12: \" union select flag from Flagtable limit 1 offset 2#\n",
      "Query has the correct escape, but contains the wrong number of rows. I return 0\n",
      "Server response is 0\n",
      "I received action 13: \" union select flag,flag from Flagtable limit 1 offset 2#\n",
      "Flag captured. I return 3\n",
      "Server response is 3\n"
     ]
    },
    {
     "data": {
      "text/plain": [
       "True"
      ]
     },
     "execution_count": 4,
     "metadata": {},
     "output_type": "execute_result"
    }
   ],
   "source": [
    "agt.reset(env)\n",
    "agt.run_episode()"
   ]
  },
  {
   "cell_type": "markdown",
   "metadata": {},
   "source": [
    "We then take a look at some statistics of the agent: its Q-table, the number of its entries, the number of steps taken, and the amount of reward."
   ]
  },
  {
   "cell_type": "code",
   "execution_count": 5,
   "metadata": {},
   "outputs": [
    {
     "data": {
      "text/plain": [
       "{(): array([1.  , 1.  , 1.  , 1.  , 1.  , 1.  , 1.  , 1.  , 1.  , 1.  , 1.  ,\n",
       "        1.  , 1.  , 1.  , 1.  , 1.  , 1.  , 1.  , 1.  , 1.  , 1.  , 1.  ,\n",
       "        0.89, 1.  , 1.  , 1.  , 1.  , 1.  , 1.  , 1.  , 1.  , 1.  , 1.  ,\n",
       "        1.  , 1.  , 1.  , 1.  , 1.  , 1.  , 1.  , 1.  , 1.  , 1.  , 1.  ,\n",
       "        1.  , 1.  , 1.  , 1.  , 1.  , 1.  , 1.  ]),\n",
       " (-23,): array([0.89, 1.  , 1.  , 1.  , 1.  , 1.  , 1.  , 1.  , 1.  , 1.  , 1.  ,\n",
       "        1.  , 1.  , 1.  , 1.  , 1.  , 1.  , 1.  , 1.  , 1.  , 1.  , 1.  ,\n",
       "        1.  , 1.  , 1.  , 1.  , 1.  , 1.  , 1.  , 1.  , 1.  , 1.  , 1.  ,\n",
       "        1.  , 1.  , 1.  , 1.  , 1.  , 1.  , 1.  , 1.  , 1.  , 1.  , 1.  ,\n",
       "        1.  , 1.  , 1.  , 1.  , 1.  , 1.  , 1.  ]),\n",
       " (-23,\n",
       "  1): array([0.89, 0.89, 1.  , 1.  , 1.  , 1.  , 1.  , 1.  , 1.  , 1.  , 1.  ,\n",
       "        1.  , 1.  , 1.  , 1.  , 1.  , 1.  , 1.  , 1.  , 1.  , 1.  , 1.  ,\n",
       "        1.  , 1.  , 1.  , 1.  , 1.  , 1.  , 1.  , 1.  , 1.  , 1.  , 1.  ,\n",
       "        1.  , 1.  , 1.  , 1.  , 1.  , 1.  , 1.  , 1.  , 1.  , 1.  , 1.  ,\n",
       "        1.  , 1.  , 1.  , 1.  , 1.  , 1.  , 1.  ]),\n",
       " (-23,\n",
       "  -2,\n",
       "  1): array([1.  , 1.  , 1.  , 1.  , 1.  , 1.  , 1.  , 1.  , 1.  , 1.  , 1.  ,\n",
       "        1.  , 1.  , 1.  , 1.  , 1.  , 1.  , 1.  , 1.  , 1.  , 1.  , 1.  ,\n",
       "        1.  , 1.  , 1.  , 1.  , 1.  , 1.  , 1.  , 1.  , 1.  , 1.  , 1.  ,\n",
       "        1.  , 1.  , 1.  , 1.  , 1.  , 1.  , 0.89, 1.  , 1.  , 1.  , 1.  ,\n",
       "        1.  , 1.  , 1.  , 1.  , 1.  , 1.  , 1.  ]),\n",
       " (-40,\n",
       "  -23,\n",
       "  -2,\n",
       "  1): array([0.89, 0.89, 0.89, 1.  , 1.  , 1.  , 1.  , 1.  , 1.  , 1.  , 1.  ,\n",
       "        1.  , 1.  , 1.  , 1.  , 1.  , 1.  , 1.  , 1.  , 1.  , 1.  , 1.  ,\n",
       "        1.  , 1.  , 1.  , 1.  , 1.  , 1.  , 1.  , 1.  , 1.  , 1.  , 1.  ,\n",
       "        1.  , 1.  , 1.  , 1.  , 1.  , 1.  , 1.  , 1.  , 1.  , 1.  , 1.  ,\n",
       "        1.  , 1.  , 1.  , 1.  , 1.  , 1.  , 1.  ]),\n",
       " (-40,\n",
       "  -23,\n",
       "  -3,\n",
       "  -2,\n",
       "  1): array([0.89, 0.89, 0.89, 0.89, 1.  , 1.  , 1.  , 1.  , 1.  , 1.  , 1.  ,\n",
       "        1.  , 1.  , 1.  , 1.  , 1.  , 1.  , 1.  , 1.  , 1.  , 1.  , 1.  ,\n",
       "        1.  , 1.  , 1.  , 1.  , 1.  , 1.  , 1.  , 1.  , 1.  , 1.  , 1.  ,\n",
       "        1.  , 1.  , 1.  , 1.  , 1.  , 1.  , 1.  , 1.  , 1.  , 1.  , 1.  ,\n",
       "        1.  , 1.  , 1.  , 1.  , 1.  , 1.  , 1.  ]),\n",
       " (-40,\n",
       "  -23,\n",
       "  -4,\n",
       "  -3,\n",
       "  -2,\n",
       "  1): array([0.89, 0.89, 0.89, 0.89, 0.89, 1.  , 1.  , 1.  , 1.  , 1.  , 1.  ,\n",
       "        1.  , 1.  , 1.  , 1.  , 1.  , 1.  , 1.  , 1.  , 1.  , 1.  , 1.  ,\n",
       "        1.  , 1.  , 1.  , 1.  , 1.  , 1.  , 1.  , 1.  , 1.  , 1.  , 1.  ,\n",
       "        1.  , 1.  , 1.  , 1.  , 1.  , 1.  , 1.  , 1.  , 1.  , 1.  , 1.  ,\n",
       "        1.  , 1.  , 1.  , 1.  , 1.  , 1.  , 1.  ]),\n",
       " (-40,\n",
       "  -23,\n",
       "  -4,\n",
       "  -3,\n",
       "  -2,\n",
       "  1,\n",
       "  5): array([0.89, 0.89, 0.89, 0.89, 0.89, 0.89, 1.  , 1.  , 1.  , 1.  , 1.  ,\n",
       "        1.  , 1.  , 1.  , 1.  , 1.  , 1.  , 1.  , 1.  , 1.  , 1.  , 1.  ,\n",
       "        1.  , 1.  , 1.  , 1.  , 1.  , 1.  , 1.  , 1.  , 1.  , 1.  , 1.  ,\n",
       "        1.  , 1.  , 1.  , 1.  , 1.  , 1.  , 1.  , 1.  , 1.  , 1.  , 1.  ,\n",
       "        1.  , 1.  , 1.  , 1.  , 1.  , 1.  , 1.  ]),\n",
       " (-40,\n",
       "  -23,\n",
       "  -4,\n",
       "  -3,\n",
       "  -2,\n",
       "  1,\n",
       "  5,\n",
       "  6): array([0.89, 0.89, 0.89, 0.89, 0.89, 0.89, 0.89, 1.  , 1.  , 1.  , 1.  ,\n",
       "        1.  , 1.  , 1.  , 1.  , 1.  , 1.  , 1.  , 1.  , 1.  , 1.  , 1.  ,\n",
       "        1.  , 1.  , 1.  , 1.  , 1.  , 1.  , 1.  , 1.  , 1.  , 1.  , 1.  ,\n",
       "        1.  , 1.  , 1.  , 1.  , 1.  , 1.  , 1.  , 1.  , 1.  , 1.  , 1.  ,\n",
       "        1.  , 1.  , 1.  , 1.  , 1.  , 1.  , 1.  ]),\n",
       " (-40,\n",
       "  -23,\n",
       "  -7,\n",
       "  -4,\n",
       "  -3,\n",
       "  -2,\n",
       "  1,\n",
       "  5,\n",
       "  6): array([0.89, 0.89, 0.89, 0.89, 0.89, 0.89, 0.89, 0.89, 1.  , 1.  , 1.  ,\n",
       "        1.  , 1.  , 1.  , 1.  , 1.  , 1.  , 1.  , 1.  , 1.  , 1.  , 1.  ,\n",
       "        1.  , 1.  , 1.  , 1.  , 1.  , 1.  , 1.  , 1.  , 1.  , 1.  , 1.  ,\n",
       "        1.  , 1.  , 1.  , 1.  , 1.  , 1.  , 1.  , 1.  , 1.  , 1.  , 1.  ,\n",
       "        1.  , 1.  , 1.  , 1.  , 1.  , 1.  , 1.  ]),\n",
       " (-40,\n",
       "  -23,\n",
       "  -8,\n",
       "  -7,\n",
       "  -4,\n",
       "  -3,\n",
       "  -2,\n",
       "  1,\n",
       "  5,\n",
       "  6): array([0.89, 0.89, 0.89, 0.89, 0.89, 0.89, 0.89, 0.89, 0.89, 1.  , 1.  ,\n",
       "        1.  , 1.  , 1.  , 1.  , 1.  , 1.  , 1.  , 1.  , 1.  , 1.  , 1.  ,\n",
       "        1.  , 1.  , 1.  , 1.  , 1.  , 1.  , 1.  , 1.  , 1.  , 1.  , 1.  ,\n",
       "        1.  , 1.  , 1.  , 1.  , 1.  , 1.  , 1.  , 1.  , 1.  , 1.  , 1.  ,\n",
       "        1.  , 1.  , 1.  , 1.  , 1.  , 1.  , 1.  ]),\n",
       " (-40,\n",
       "  -23,\n",
       "  -9,\n",
       "  -8,\n",
       "  -7,\n",
       "  -4,\n",
       "  -3,\n",
       "  -2,\n",
       "  1,\n",
       "  5,\n",
       "  6): array([0.89, 1.  , 1.  , 1.  , 1.  , 1.  , 1.  , 1.  , 1.  , 1.  , 0.89,\n",
       "        1.  , 1.  , 1.  , 1.  , 1.  , 1.  , 1.  , 1.  , 1.  , 1.  , 1.  ,\n",
       "        1.  , 1.  , 1.  , 1.  , 1.  , 1.  , 1.  , 1.  , 1.  , 1.  , 1.  ,\n",
       "        1.  , 1.  , 1.  , 1.  , 1.  , 1.  , 1.  , 1.  , 1.  , 1.  , 1.  ,\n",
       "        1.  , 1.  , 1.  , 1.  , 1.  , 1.  , 1.  ]),\n",
       " (-40,\n",
       "  -23,\n",
       "  -11,\n",
       "  -9,\n",
       "  -8,\n",
       "  -7,\n",
       "  -4,\n",
       "  -3,\n",
       "  -2,\n",
       "  1,\n",
       "  5,\n",
       "  6): array([0.89, 0.89, 0.89, 0.89, 1.  , 1.  , 1.  , 1.  , 1.  , 1.  , 1.  ,\n",
       "        1.  , 1.  , 1.  , 1.  , 1.  , 1.  , 1.  , 1.  , 1.  , 1.  , 1.  ,\n",
       "        1.  , 1.  , 1.  , 1.  , 1.  , 1.  , 1.  , 1.  , 1.  , 1.  , 1.  ,\n",
       "        0.89, 1.  , 1.  , 1.  , 1.  , 1.  , 1.  , 1.  , 1.  , 1.  , 1.  ,\n",
       "        1.  , 1.  , 1.  , 1.  , 1.  , 1.  , 1.  ]),\n",
       " (-40,\n",
       "  -34,\n",
       "  -23,\n",
       "  -11,\n",
       "  -9,\n",
       "  -8,\n",
       "  -7,\n",
       "  -4,\n",
       "  -3,\n",
       "  -2,\n",
       "  1,\n",
       "  5,\n",
       "  6): array([0.89, 0.89, 0.89, 0.89, 0.89, 0.89, 0.89, 0.89, 0.89, 0.89, 1.  ,\n",
       "        1.  , 1.  , 1.  , 1.  , 1.  , 1.  , 1.  , 1.  , 1.  , 1.  , 1.  ,\n",
       "        1.  , 1.  , 1.  , 1.  , 1.  , 1.  , 1.  , 1.  , 1.  , 1.  , 1.  ,\n",
       "        1.  , 1.  , 1.  , 1.  , 1.  , 1.  , 1.  , 1.  , 1.  , 1.  , 1.  ,\n",
       "        1.  , 1.  , 1.  , 1.  , 1.  , 1.  , 1.  ]),\n",
       " (-40,\n",
       "  -34,\n",
       "  -23,\n",
       "  -11,\n",
       "  -10,\n",
       "  -9,\n",
       "  -8,\n",
       "  -7,\n",
       "  -4,\n",
       "  -3,\n",
       "  -2,\n",
       "  1,\n",
       "  5,\n",
       "  6): array([0.89, 0.89, 0.89, 0.89, 0.89, 0.89, 0.89, 1.  , 1.  , 1.  , 1.  ,\n",
       "        1.  , 1.  , 1.  , 1.  , 1.  , 1.  , 1.  , 1.  , 1.  , 1.  , 1.  ,\n",
       "        1.  , 1.  , 1.  , 1.  , 1.  , 1.  , 1.  , 1.  , 1.  , 1.  , 1.  ,\n",
       "        1.  , 1.  , 1.  , 1.  , 1.  , 1.  , 1.  , 1.  , 0.89, 1.  , 1.  ,\n",
       "        1.  , 1.  , 1.  , 1.  , 1.  , 1.  , 1.  ]),\n",
       " (-42,\n",
       "  -40,\n",
       "  -34,\n",
       "  -23,\n",
       "  -11,\n",
       "  -10,\n",
       "  -9,\n",
       "  -8,\n",
       "  -7,\n",
       "  -4,\n",
       "  -3,\n",
       "  -2,\n",
       "  1,\n",
       "  5,\n",
       "  6): array([0.89, 0.89, 1.  , 1.  , 1.  , 1.  , 1.  , 1.  , 1.  , 1.  , 1.  ,\n",
       "        1.  , 1.  , 1.  , 1.  , 1.  , 1.  , 1.  , 1.  , 1.  , 1.  , 1.  ,\n",
       "        1.  , 1.  , 1.  , 1.  , 1.  , 1.  , 1.  , 1.  , 1.  , 1.  , 1.  ,\n",
       "        1.  , 1.  , 1.  , 1.  , 1.  , 1.  , 1.  , 1.  , 1.  , 0.89, 1.  ,\n",
       "        1.  , 1.  , 1.  , 1.  , 1.  , 1.  , 1.  ]),\n",
       " (-43,\n",
       "  -42,\n",
       "  -40,\n",
       "  -34,\n",
       "  -23,\n",
       "  -11,\n",
       "  -10,\n",
       "  -9,\n",
       "  -8,\n",
       "  -7,\n",
       "  -4,\n",
       "  -3,\n",
       "  -2,\n",
       "  1,\n",
       "  5,\n",
       "  6): array([0.89, 0.89, 0.89, 0.89, 0.89, 0.89, 0.89, 0.89, 0.89, 0.89, 0.89,\n",
       "        0.89, 1.  , 1.  , 1.  , 1.  , 1.  , 1.  , 1.  , 1.  , 1.  , 1.  ,\n",
       "        1.  , 1.  , 1.  , 1.  , 1.  , 1.  , 1.  , 1.  , 1.  , 1.  , 1.  ,\n",
       "        1.  , 1.  , 1.  , 1.  , 1.  , 1.  , 1.  , 1.  , 1.  , 1.  , 1.  ,\n",
       "        1.  , 1.  , 1.  , 1.  , 1.  , 1.  , 1.  ]),\n",
       " (-43,\n",
       "  -42,\n",
       "  -40,\n",
       "  -34,\n",
       "  -23,\n",
       "  -12,\n",
       "  -11,\n",
       "  -10,\n",
       "  -9,\n",
       "  -8,\n",
       "  -7,\n",
       "  -4,\n",
       "  -3,\n",
       "  -2,\n",
       "  1,\n",
       "  5,\n",
       "  6): array([0.89, 0.89, 0.89, 0.89, 0.89, 0.89, 1.  , 1.  , 1.  , 1.  , 1.  ,\n",
       "        1.  , 0.89, 1.  , 1.  , 1.  , 1.  , 1.  , 1.  , 1.  , 1.  , 1.  ,\n",
       "        1.  , 1.  , 1.  , 1.  , 1.  , 1.  , 1.  , 1.  , 1.  , 1.  , 1.  ,\n",
       "        1.  , 1.  , 1.  , 1.  , 1.  , 1.  , 1.  , 1.  , 1.  , 1.  , 1.  ,\n",
       "        1.  , 1.  , 1.  , 1.  , 1.  , 1.  , 1.  ]),\n",
       " (-43,\n",
       "  -42,\n",
       "  -40,\n",
       "  -34,\n",
       "  -23,\n",
       "  -13,\n",
       "  -12,\n",
       "  -11,\n",
       "  -10,\n",
       "  -9,\n",
       "  -8,\n",
       "  -7,\n",
       "  -4,\n",
       "  -3,\n",
       "  -2,\n",
       "  1,\n",
       "  5,\n",
       "  6): array([0.89, 0.89, 0.89, 0.89, 0.89, 0.89, 0.89, 0.89, 0.89, 0.89, 0.89,\n",
       "        0.89, 0.89, 1.99, 1.  , 1.  , 1.  , 1.  , 1.  , 1.  , 1.  , 1.  ,\n",
       "        0.89, 1.  , 1.  , 1.  , 1.  , 1.  , 1.  , 1.  , 1.  , 1.  , 1.  ,\n",
       "        1.  , 1.  , 1.  , 1.  , 1.  , 1.  , 1.  , 1.  , 1.  , 1.  , 1.  ,\n",
       "        1.  , 1.  , 1.  , 1.  , 1.  , 1.  , 1.  ]),\n",
       " (-43,\n",
       "  -42,\n",
       "  -40,\n",
       "  -34,\n",
       "  -23,\n",
       "  -13,\n",
       "  -12,\n",
       "  -11,\n",
       "  -10,\n",
       "  -9,\n",
       "  -8,\n",
       "  -7,\n",
       "  -4,\n",
       "  -3,\n",
       "  -2,\n",
       "  1,\n",
       "  5,\n",
       "  6,\n",
       "  14): array([1., 1., 1., 1., 1., 1., 1., 1., 1., 1., 1., 1., 1., 1., 1., 1., 1.,\n",
       "        1., 1., 1., 1., 1., 1., 1., 1., 1., 1., 1., 1., 1., 1., 1., 1., 1.,\n",
       "        1., 1., 1., 1., 1., 1., 1., 1., 1., 1., 1., 1., 1., 1., 1., 1., 1.])}"
      ]
     },
     "execution_count": 5,
     "metadata": {},
     "output_type": "execute_result"
    }
   ],
   "source": [
    "agt.Q"
   ]
  },
  {
   "cell_type": "code",
   "execution_count": 6,
   "metadata": {},
   "outputs": [
    {
     "name": "stdout",
     "output_type": "stream",
     "text": [
      "(20, (51,))\n"
     ]
    }
   ],
   "source": [
    "print(ut.getdictshape(agt.Q))"
   ]
  },
  {
   "cell_type": "code",
   "execution_count": 7,
   "metadata": {},
   "outputs": [
    {
     "name": "stdout",
     "output_type": "stream",
     "text": [
      "109\n"
     ]
    }
   ],
   "source": [
    "print(agt.steps)"
   ]
  },
  {
   "cell_type": "code",
   "execution_count": 8,
   "metadata": {},
   "outputs": [
    {
     "name": "stdout",
     "output_type": "stream",
     "text": [
      "-98\n"
     ]
    }
   ],
   "source": [
    "print(agt.rewards)"
   ]
  },
  {
   "cell_type": "markdown",
   "metadata": {},
   "source": [
    "## Training the agent\n",
    "\n",
    "We train the agent over $10^6$ episodes."
   ]
  },
  {
   "cell_type": "code",
   "execution_count": 9,
   "metadata": {},
   "outputs": [
    {
     "name": "stderr",
     "output_type": "stream",
     "text": [
      "100%|██████████| 1000000/1000000 [14:02<00:00, 1186.76it/s]\n"
     ]
    }
   ],
   "source": [
    "nepisodes = 10**6\n",
    "\n",
    "agt = agn.Agent(const.actions,verbose=False)\n",
    "agt.set_learning_options(exploration=0.02, \n",
    "                         learningrate=0.1, \n",
    "                         discount=0.9, max_step = 1000)\n",
    "\n",
    "steps = []; rewards = []; states = []\n",
    "for _ in tqdm(range(nepisodes)):\n",
    "    env = SQLenv.mockSQLenv(verbose=False)\n",
    "    \n",
    "    agt.reset(env)\n",
    "    agt.run_episode()\n",
    "    \n",
    "    steps.append(agt.steps)\n",
    "    rewards.append(agt.rewards)\n",
    "    states.append(ut.getdictshape(agt.Q)[0])    "
   ]
  },
  {
   "cell_type": "markdown",
   "metadata": {},
   "source": [
    "We save its Q-matrix."
   ]
  },
  {
   "cell_type": "code",
   "execution_count": 10,
   "metadata": {},
   "outputs": [
    {
     "data": {
      "text/plain": [
       "['ignore_simul1_20201215143443258064.pkl']"
      ]
     },
     "execution_count": 10,
     "metadata": {},
     "output_type": "execute_result"
    }
   ],
   "source": [
    "timestamp = datetime.datetime.now().strftime(\"%Y%m%d%H%M%S%f\")\n",
    "joblib.dump(agt.Q,'ignore_simul1_'+timestamp+'.pkl')"
   ]
  },
  {
   "cell_type": "markdown",
   "metadata": {},
   "source": [
    "## Analyzing the agent\n",
    "\n",
    "We plot the variation in the number of states in the Q-matrix"
   ]
  },
  {
   "cell_type": "code",
   "execution_count": 11,
   "metadata": {},
   "outputs": [
    {
     "data": {
      "text/plain": [
       "Text(0, 0.5, 'number of states')"
      ]
     },
     "execution_count": 11,
     "metadata": {},
     "output_type": "execute_result"
    },
    {
     "data": {
      "image/png": "[encoded data removed]",
      "text/plain": [
       "<Figure size 432x288 with 1 Axes>"
      ]
     },
     "metadata": {
      "needs_background": "light"
     },
     "output_type": "display_data"
    }
   ],
   "source": [
    "plt.plot(states)\n",
    "plt.xlabel('episodes')\n",
    "plt.ylabel('number of states')"
   ]
  },
  {
   "cell_type": "markdown",
   "metadata": {},
   "source": [
    "We plot the number of steps per episode (averaged over 100 consecutive episodes and smoothing)"
   ]
  },
  {
   "cell_type": "code",
   "execution_count": 12,
   "metadata": {},
   "outputs": [
    {
     "data": {
      "text/plain": [
       "Text(0, 0.5, 'number of steps')"
      ]
     },
     "execution_count": 12,
     "metadata": {},
     "output_type": "execute_result"
    },
    {
     "data": {
      "image/png": "[encoded data removed]",
      "text/plain": [
       "<Figure size 432x288 with 1 Axes>"
      ]
     },
     "metadata": {
      "needs_background": "light"
     },
     "output_type": "display_data"
    }
   ],
   "source": [
    "plt.plot(np.mean(np.array(steps).reshape(-1,100),axis=1))\n",
    "plt.xlabel('episodes')\n",
    "plt.ylabel('number of steps')"
   ]
  },
  {
   "cell_type": "code",
   "execution_count": 13,
   "metadata": {},
   "outputs": [
    {
     "data": {
      "text/plain": [
       "Text(0, 0.5, 'number of steps')"
      ]
     },
     "execution_count": 13,
     "metadata": {},
     "output_type": "execute_result"
    },
    {
     "data": {
      "image/png": "[encoded data removed]",
      "text/plain": [
       "<Figure size 432x288 with 1 Axes>"
      ]
     },
     "metadata": {
      "needs_background": "light"
     },
     "output_type": "display_data"
    }
   ],
   "source": [
    "plt.plot(SGfilter(steps,101,3))\n",
    "plt.xlabel('episodes')\n",
    "plt.ylabel('number of steps')"
   ]
  },
  {
   "cell_type": "markdown",
   "metadata": {},
   "source": [
    "We plot the amount of reward per episode (averaged over 100 consecutive episodes)"
   ]
  },
  {
   "cell_type": "code",
   "execution_count": 14,
   "metadata": {},
   "outputs": [
    {
     "data": {
      "text/plain": [
       "Text(0, 0.5, 'reward')"
      ]
     },
     "execution_count": 14,
     "metadata": {},
     "output_type": "execute_result"
    },
    {
     "data": {
      "image/png": "[encoded data removed]",
      "text/plain": [
       "<Figure size 432x288 with 1 Axes>"
      ]
     },
     "metadata": {
      "needs_background": "light"
     },
     "output_type": "display_data"
    }
   ],
   "source": [
    "plt.plot(np.mean(np.array(rewards).reshape(-1,100),axis=1))\n",
    "plt.xlabel('episodes')\n",
    "plt.ylabel('reward')"
   ]
  },
  {
   "cell_type": "markdown",
   "metadata": {},
   "source": [
    "We now further run the agent in a test setting for further $100$ epiodes, by making its policy deterministic and setting the exploration parameter $\\epsilon$ to 0."
   ]
  },
  {
   "cell_type": "code",
   "execution_count": 15,
   "metadata": {},
   "outputs": [
    {
     "name": "stderr",
     "output_type": "stream",
     "text": [
      "100%|██████████| 100/100 [00:00<00:00, 7061.36it/s]\n"
     ]
    }
   ],
   "source": [
    "nepisodes = 100\n",
    "\n",
    "agt.set_learning_options(exploration=0.0)\n",
    "\n",
    "Tsteps = []; Trewards = []; Tstates = []\n",
    "for _ in tqdm(range(nepisodes)):\n",
    "    env = SQLenv.mockSQLenv(verbose=False)\n",
    "    \n",
    "    agt.reset(env)\n",
    "    agt.run_episode()\n",
    "    \n",
    "    Tsteps.append(agt.steps)\n",
    "    Trewards.append(agt.rewards)\n",
    "    Tstates.append(ut.getdictshape(agt.Q)[0])    "
   ]
  },
  {
   "cell_type": "markdown",
   "metadata": {},
   "source": [
    "We plot the number of steps taken and their average."
   ]
  },
  {
   "cell_type": "code",
   "execution_count": 16,
   "metadata": {},
   "outputs": [
    {
     "data": {
      "text/plain": [
       "<matplotlib.legend.Legend at 0x7f0bc955be50>"
      ]
     },
     "execution_count": 16,
     "metadata": {},
     "output_type": "execute_result"
    },
    {
     "data": {
      "image/png": "[encoded data removed]",
      "text/plain": [
       "<Figure size 432x288 with 1 Axes>"
      ]
     },
     "metadata": {
      "needs_background": "light"
     },
     "output_type": "display_data"
    }
   ],
   "source": [
    "#plt.plot(np.mean(np.array(Tsteps).reshape(-1,10),axis=1))\n",
    "plt.plot(Tsteps)\n",
    "plt.xlabel('episodes')\n",
    "plt.ylabel('number of steps')\n",
    "plt.axhline(np.average(Tsteps),c='red',ls='--',label='mean')\n",
    "plt.legend()"
   ]
  },
  {
   "cell_type": "markdown",
   "metadata": {},
   "source": [
    "We plot the rewards and its average."
   ]
  },
  {
   "cell_type": "code",
   "execution_count": 17,
   "metadata": {},
   "outputs": [
    {
     "data": {
      "text/plain": [
       "<matplotlib.legend.Legend at 0x7f0bc958cf70>"
      ]
     },
     "execution_count": 17,
     "metadata": {},
     "output_type": "execute_result"
    },
    {
     "data": {
      "image/png": "[encoded data removed]",
      "text/plain": [
       "<Figure size 432x288 with 1 Axes>"
      ]
     },
     "metadata": {
      "needs_background": "light"
     },
     "output_type": "display_data"
    }
   ],
   "source": [
    "#plt.plot(np.mean(np.array(Trewards).reshape(-1,10),axis=1))\n",
    "plt.plot(Trewards)\n",
    "plt.xlabel('rewards')\n",
    "plt.ylabel('number of steps')\n",
    "plt.axhline(np.average(Trewards),c='red',ls='--',label='mean')\n",
    "plt.legend()"
   ]
  },
  {
   "cell_type": "code",
   "execution_count": 18,
   "metadata": {},
   "outputs": [
    {
     "data": {
      "text/plain": [
       "Text(0, 0.5, 'Q-value')"
      ]
     },
     "execution_count": 18,
     "metadata": {},
     "output_type": "execute_result"
    },
    {
     "data": {
      "image/png": "[encoded data removed]",
      "text/plain": [
       "<Figure size 432x288 with 1 Axes>"
      ]
     },
     "metadata": {
      "needs_background": "light"
     },
     "output_type": "display_data"
    }
   ],
   "source": [
    "plt.bar(np.arange(len(agt.Q[(1,)])), agt.Q[()])\n",
    "plt.xlabel('actions')\n",
    "plt.ylabel('Q-value')"
   ]
  },
  {
   "cell_type": "code",
   "execution_count": 19,
   "metadata": {},
   "outputs": [
    {
     "data": {
      "text/plain": [
       "Text(0, 0.5, 'Q-value')"
      ]
     },
     "execution_count": 19,
     "metadata": {},
     "output_type": "execute_result"
    },
    {
     "data": {
      "image/png": "[encoded data removed]",
      "text/plain": [
       "<Figure size 432x288 with 1 Axes>"
      ]
     },
     "metadata": {
      "needs_background": "light"
     },
     "output_type": "display_data"
    }
   ],
   "source": [
    "plt.bar(np.arange(len(agt.Q[(-1,)])), agt.Q[(-1,)])\n",
    "plt.xlabel('actions')\n",
    "plt.ylabel('Q-value')"
   ]
  },
  {
   "cell_type": "code",
   "execution_count": 20,
   "metadata": {},
   "outputs": [
    {
     "data": {
      "text/plain": [
       "Text(0, 0.5, 'Q-value')"
      ]
     },
     "execution_count": 20,
     "metadata": {},
     "output_type": "execute_result"
    },
    {
     "data": {
      "image/png": "[encoded data removed]",
      "text/plain": [
       "<Figure size 432x288 with 1 Axes>"
      ]
     },
     "metadata": {
      "needs_background": "light"
     },
     "output_type": "display_data"
    }
   ],
   "source": [
    "plt.bar(np.arange(len(agt.Q[(1,)])), agt.Q[(1,)])\n",
    "plt.xlabel('actions')\n",
    "plt.ylabel('Q-value')"
   ]
  },
  {
   "cell_type": "code",
   "execution_count": 21,
   "metadata": {},
   "outputs": [
    {
     "data": {
      "text/plain": [
       "Text(0, 0.5, 'Q-value')"
      ]
     },
     "execution_count": 21,
     "metadata": {},
     "output_type": "execute_result"
    },
    {
     "data": {
      "image/png": "[encoded data removed]",
      "text/plain": [
       "<Figure size 432x288 with 1 Axes>"
      ]
     },
     "metadata": {
      "needs_background": "light"
     },
     "output_type": "display_data"
    }
   ],
   "source": [
    "plt.bar(np.arange(len(agt.Q[(1,)])), agt.Q[(-12, 1)])\n",
    "plt.xlabel('actions')\n",
    "plt.ylabel('Q-value')"
   ]
  },
  {
   "cell_type": "code",
   "execution_count": 22,
   "metadata": {},
   "outputs": [
    {
     "data": {
      "text/plain": [
       "Text(0, 0.5, 'Q-value')"
      ]
     },
     "execution_count": 22,
     "metadata": {},
     "output_type": "execute_result"
    },
    {
     "data": {
      "image/png": "[encoded data removed]",
      "text/plain": [
       "<Figure size 432x288 with 1 Axes>"
      ]
     },
     "metadata": {
      "needs_background": "light"
     },
     "output_type": "display_data"
    }
   ],
   "source": [
    "plt.bar(np.arange(len(agt.Q[(1,)])), agt.Q[(-12, -1)])\n",
    "plt.xlabel('actions')\n",
    "plt.ylabel('Q-value')"
   ]
  },
  {
   "cell_type": "code",
   "execution_count": 23,
   "metadata": {},
   "outputs": [
    {
     "data": {
      "text/plain": [
       "Text(0, 0.5, 'Q-value')"
      ]
     },
     "execution_count": 23,
     "metadata": {},
     "output_type": "execute_result"
    },
    {
     "data": {
      "image/png": "[encoded data removed]",
      "text/plain": [
       "<Figure size 432x288 with 1 Axes>"
      ]
     },
     "metadata": {
      "needs_background": "light"
     },
     "output_type": "display_data"
    }
   ],
   "source": [
    "plt.bar(np.arange(len(agt.Q[(1,)])), agt.Q[(-18, -1)])\n",
    "plt.xlabel('actions')\n",
    "plt.ylabel('Q-value')"
   ]
  },
  {
   "cell_type": "code",
   "execution_count": 24,
   "metadata": {},
   "outputs": [
    {
     "data": {
      "text/plain": [
       "Text(0, 0.5, 'Q-value')"
      ]
     },
     "execution_count": 24,
     "metadata": {},
     "output_type": "execute_result"
    },
    {
     "data": {
      "image/png": "[encoded data removed]",
      "text/plain": [
       "<Figure size 432x288 with 1 Axes>"
      ]
     },
     "metadata": {
      "needs_background": "light"
     },
     "output_type": "display_data"
    }
   ],
   "source": [
    "plt.bar(np.arange(len(agt.Q[(1,)])), agt.Q[(-35, -1)])\n",
    "plt.xlabel('actions')\n",
    "plt.ylabel('Q-value')"
   ]
  },
  {
   "cell_type": "code",
   "execution_count": null,
   "metadata": {},
   "outputs": [],
   "source": []
  }
 ],
 "metadata": {
  "kernelspec": {
   "display_name": "Python 3",
   "language": "python",
   "name": "python3"
  },
  "language_info": {
   "codemirror_mode": {
    "name": "ipython",
    "version": 3
   },
   "file_extension": ".py",
   "mimetype": "text/x-python",
   "name": "python",
   "nbconvert_exporter": "python",
   "pygments_lexer": "ipython3",
   "version": "3.8.3"
  }
 },
 "nbformat": 4,
 "nbformat_minor": 4
}
