{
 "cells": [
  {
   "cell_type": "markdown",
   "metadata": {},
   "source": [
    "## Importing Libraries\n",
    "\n",
    "We basic libraries and modules for our simulation"
   ]
  },
  {
   "cell_type": "code",
   "execution_count": 13,
   "metadata": {},
   "outputs": [],
   "source": [
    "import numpy as np\n",
    "import matplotlib.pyplot as plt\n",
    "from scipy.signal import savgol_filter as SGfilter\n",
    "from IPython.display import clear_output\n",
    "import datetime\n",
    "import joblib\n",
    "from tqdm import tqdm\n",
    "\n",
    "import const\n",
    "import utilities as ut\n",
    "import mockSQLenv_low_reward as SQLenv\n",
    "import agent2 as agn"
   ]
  },
  {
   "cell_type": "markdown",
   "metadata": {},
   "source": [
    "## Setting up the model\n",
    "\n",
    "We set up our environment."
   ]
  },
  {
   "cell_type": "code",
   "execution_count": 2,
   "metadata": {},
   "outputs": [
    {
     "name": "stdout",
     "output_type": "stream",
     "text": [
      "Game setup with a random query\n"
     ]
    }
   ],
   "source": [
    "env = SQLenv.mockSQLenv(verbose=True)"
   ]
  },
  {
   "cell_type": "markdown",
   "metadata": {},
   "source": [
    "We instantiate an agent and look at its starting Q-table."
   ]
  },
  {
   "cell_type": "code",
   "execution_count": 3,
   "metadata": {},
   "outputs": [
    {
     "name": "stdout",
     "output_type": "stream",
     "text": [
      "{(): array([1., 1., 1., 1., 1., 1., 1., 1., 1., 1., 1., 1., 1., 1., 1., 1., 1.,\n",
      "       1., 1., 1., 1., 1., 1., 1., 1., 1., 1., 1., 1., 1., 1., 1., 1., 1.,\n",
      "       1., 1., 1., 1., 1., 1., 1., 1., 1., 1., 1., 1., 1., 1., 1., 1., 1.])}\n",
      "0 / 0\n"
     ]
    }
   ],
   "source": [
    "agt = agn.Agent(const.actions)\n",
    "agt.set_learning_options(exploration=0.02, \n",
    "                         learningrate=0.1, \n",
    "                         discount=0.9, max_step = 1000)\n",
    "print(agt.Q)\n",
    "print(agt.total_successes, \"/\", agt.total_trials)"
   ]
  },
  {
   "cell_type": "markdown",
   "metadata": {},
   "source": [
    "## Running the model\n",
    "\n",
    "We run an agent on our environment."
   ]
  },
  {
   "cell_type": "code",
   "execution_count": 4,
   "metadata": {},
   "outputs": [
    {
     "name": "stdout",
     "output_type": "stream",
     "text": [
      "Game reset (but not reinitialized with a new random query!)\n",
      "Game reset\n",
      "I received action 0: \" and \"1\"=\"1\n",
      "Correct exploratory action for the escape. I return 1\n",
      "Server response is 1\n",
      "I received action 0: \" and \"1\"=\"1\n",
      "Correct exploratory action for the escape. I return 1\n",
      "Server response is 1\n",
      "I received action 1: \" and \"1\"=\"2\n",
      "Correct exploratory action for the escape. I return 2\n",
      "Server response is 2\n",
      "I received action 0: \" and \"1\"=\"1\n",
      "Correct exploratory action for the escape. I return 1\n",
      "Server response is 1\n",
      "I received action 1: \" and \"1\"=\"2\n",
      "Correct exploratory action for the escape. I return 2\n",
      "Server response is 2\n",
      "I received action 2: \" union select 1#\n",
      "Query has the correct escape, but contains the wrong number of rows. I return 0\n",
      "Server response is 0\n",
      "I received action 0: \" and \"1\"=\"1\n",
      "Correct exploratory action for the escape. I return 1\n",
      "Server response is 1\n",
      "I received action 1: \" and \"1\"=\"2\n",
      "Correct exploratory action for the escape. I return 2\n",
      "Server response is 2\n",
      "I received action 2: \" union select 1#\n",
      "Query has the correct escape, but contains the wrong number of rows. I return 0\n",
      "Server response is 0\n",
      "I received action 3: \" union select 1 limit 1 offset 1#\n",
      "Query has the correct escape, but contains the wrong number of rows. I return 0\n",
      "Server response is 0\n",
      "I received action 0: \" and \"1\"=\"1\n",
      "Correct exploratory action for the escape. I return 1\n",
      "Server response is 1\n",
      "I received action 1: \" and \"1\"=\"2\n",
      "Correct exploratory action for the escape. I return 2\n",
      "Server response is 2\n",
      "I received action 2: \" union select 1#\n",
      "Query has the correct escape, but contains the wrong number of rows. I return 0\n",
      "Server response is 0\n",
      "I received action 3: \" union select 1 limit 1 offset 1#\n",
      "Query has the correct escape, but contains the wrong number of rows. I return 0\n",
      "Server response is 0\n",
      "I received action 4: \" union select 1,2#\n",
      "Query has the correct escape, but contains the wrong number of rows. I return 0\n",
      "Server response is 0\n",
      "I received action 0: \" and \"1\"=\"1\n",
      "Correct exploratory action for the escape. I return 1\n",
      "Server response is 1\n",
      "I received action 1: \" and \"1\"=\"2\n",
      "Correct exploratory action for the escape. I return 2\n",
      "Server response is 2\n",
      "I received action 2: \" union select 1#\n",
      "Query has the correct escape, but contains the wrong number of rows. I return 0\n",
      "Server response is 0\n",
      "I received action 3: \" union select 1 limit 1 offset 1#\n",
      "Query has the correct escape, but contains the wrong number of rows. I return 0\n",
      "Server response is 0\n",
      "I received action 4: \" union select 1,2#\n",
      "Query has the correct escape, but contains the wrong number of rows. I return 0\n",
      "Server response is 0\n",
      "I received action 5: \" union select 1,2 limit 1 offset 1#\n",
      "Query has the correct escape, but contains the wrong number of rows. I return 0\n",
      "Server response is 0\n",
      "I received action 0: \" and \"1\"=\"1\n",
      "Correct exploratory action for the escape. I return 1\n",
      "Server response is 1\n",
      "I received action 1: \" and \"1\"=\"2\n",
      "Correct exploratory action for the escape. I return 2\n",
      "Server response is 2\n",
      "I received action 2: \" union select 1#\n",
      "Query has the correct escape, but contains the wrong number of rows. I return 0\n",
      "Server response is 0\n",
      "I received action 3: \" union select 1 limit 1 offset 1#\n",
      "Query has the correct escape, but contains the wrong number of rows. I return 0\n",
      "Server response is 0\n",
      "I received action 4: \" union select 1,2#\n",
      "Query has the correct escape, but contains the wrong number of rows. I return 0\n",
      "Server response is 0\n",
      "I received action 5: \" union select 1,2 limit 1 offset 1#\n",
      "Query has the correct escape, but contains the wrong number of rows. I return 0\n",
      "Server response is 0\n",
      "I received action 6: \" union select 1,2,3#\n",
      "Query has the correct escape, but contains the wrong number of rows. I return 0\n",
      "Server response is 0\n",
      "I received action 0: \" and \"1\"=\"1\n",
      "Correct exploratory action for the escape. I return 1\n",
      "Server response is 1\n",
      "I received action 1: \" and \"1\"=\"2\n",
      "Correct exploratory action for the escape. I return 2\n",
      "Server response is 2\n",
      "I received action 2: \" union select 1#\n",
      "Query has the correct escape, but contains the wrong number of rows. I return 0\n",
      "Server response is 0\n",
      "I received action 3: \" union select 1 limit 1 offset 1#\n",
      "Query has the correct escape, but contains the wrong number of rows. I return 0\n",
      "Server response is 0\n",
      "I received action 4: \" union select 1,2#\n",
      "Query has the correct escape, but contains the wrong number of rows. I return 0\n",
      "Server response is 0\n",
      "I received action 5: \" union select 1,2 limit 1 offset 1#\n",
      "Query has the correct escape, but contains the wrong number of rows. I return 0\n",
      "Server response is 0\n",
      "I received action 6: \" union select 1,2,3#\n",
      "Query has the correct escape, but contains the wrong number of rows. I return 0\n",
      "Server response is 0\n",
      "I received action 7: \" union select 1,2,3 limit 1 offset 1#\n",
      "Query has the correct escape, but contains the wrong number of rows. I return 0\n",
      "Server response is 0\n",
      "I received action 0: \" and \"1\"=\"1\n",
      "Correct exploratory action for the escape. I return 1\n",
      "Server response is 1\n",
      "I received action 1: \" and \"1\"=\"2\n",
      "Correct exploratory action for the escape. I return 2\n",
      "Server response is 2\n",
      "I received action 2: \" union select 1#\n",
      "Query has the correct escape, but contains the wrong number of rows. I return 0\n",
      "Server response is 0\n",
      "I received action 3: \" union select 1 limit 1 offset 1#\n",
      "Query has the correct escape, but contains the wrong number of rows. I return 0\n",
      "Server response is 0\n",
      "I received action 4: \" union select 1,2#\n",
      "Query has the correct escape, but contains the wrong number of rows. I return 0\n",
      "Server response is 0\n",
      "I received action 5: \" union select 1,2 limit 1 offset 1#\n",
      "Query has the correct escape, but contains the wrong number of rows. I return 0\n",
      "Server response is 0\n",
      "I received action 6: \" union select 1,2,3#\n",
      "Query has the correct escape, but contains the wrong number of rows. I return 0\n",
      "Server response is 0\n",
      "I received action 7: \" union select 1,2,3 limit 1 offset 1#\n",
      "Query has the correct escape, but contains the wrong number of rows. I return 0\n",
      "Server response is 0\n",
      "I received action 8: \" union select 1,2,3,4#\n",
      "Query has the correct escape, but contains the wrong number of rows. I return 0\n",
      "Server response is 0\n",
      "I received action 0: \" and \"1\"=\"1\n",
      "Correct exploratory action for the escape. I return 1\n",
      "Server response is 1\n",
      "I received action 1: \" and \"1\"=\"2\n",
      "Correct exploratory action for the escape. I return 2\n",
      "Server response is 2\n",
      "I received action 2: \" union select 1#\n",
      "Query has the correct escape, but contains the wrong number of rows. I return 0\n",
      "Server response is 0\n",
      "I received action 3: \" union select 1 limit 1 offset 1#\n",
      "Query has the correct escape, but contains the wrong number of rows. I return 0\n",
      "Server response is 0\n",
      "I received action 4: \" union select 1,2#\n",
      "Query has the correct escape, but contains the wrong number of rows. I return 0\n",
      "Server response is 0\n",
      "I received action 5: \" union select 1,2 limit 1 offset 1#\n",
      "Query has the correct escape, but contains the wrong number of rows. I return 0\n",
      "Server response is 0\n",
      "I received action 6: \" union select 1,2,3#\n",
      "Query has the correct escape, but contains the wrong number of rows. I return 0\n",
      "Server response is 0\n",
      "I received action 7: \" union select 1,2,3 limit 1 offset 1#\n",
      "Query has the correct escape, but contains the wrong number of rows. I return 0\n",
      "Server response is 0\n",
      "I received action 8: \" union select 1,2,3,4#\n",
      "Query has the correct escape, but contains the wrong number of rows. I return 0\n",
      "Server response is 0\n",
      "I received action 9: \" union select 1,2,3,4 limit 1 offset 1#\n",
      "Query has the correct escape, but contains the wrong number of rows. I return 0\n",
      "Server response is 0\n",
      "I received action 12: \" union select flag from Flagtable limit 1 offset 2#\n",
      "Query has the correct escape, but contains the wrong number of rows. I return 0\n",
      "Server response is 0\n",
      "I received action 0: \" and \"1\"=\"1\n",
      "Correct exploratory action for the escape. I return 1\n",
      "Server response is 1\n",
      "I received action 1: \" and \"1\"=\"2\n",
      "Correct exploratory action for the escape. I return 2\n",
      "Server response is 2\n",
      "I received action 2: \" union select 1#\n",
      "Query has the correct escape, but contains the wrong number of rows. I return 0\n",
      "Server response is 0\n",
      "I received action 3: \" union select 1 limit 1 offset 1#\n",
      "Query has the correct escape, but contains the wrong number of rows. I return 0\n",
      "Server response is 0\n",
      "I received action 4: \" union select 1,2#\n",
      "Query has the correct escape, but contains the wrong number of rows. I return 0\n",
      "Server response is 0\n",
      "I received action 5: \" union select 1,2 limit 1 offset 1#\n",
      "Query has the correct escape, but contains the wrong number of rows. I return 0\n",
      "Server response is 0\n",
      "I received action 6: \" union select 1,2,3#\n",
      "Query has the correct escape, but contains the wrong number of rows. I return 0\n",
      "Server response is 0\n",
      "I received action 7: \" union select 1,2,3 limit 1 offset 1#\n",
      "Query has the correct escape, but contains the wrong number of rows. I return 0\n",
      "Server response is 0\n",
      "I received action 8: \" union select 1,2,3,4#\n",
      "Query has the correct escape, but contains the wrong number of rows. I return 0\n",
      "Server response is 0\n",
      "I received action 9: \" union select 1,2,3,4 limit 1 offset 1#\n",
      "Query has the correct escape, but contains the wrong number of rows. I return 0\n",
      "Server response is 0\n",
      "I received action 10: \" union select 1,2,3,4,5#\n",
      "Query with correct number of rows\n",
      "Server response is 4\n",
      "I received action 0: \" and \"1\"=\"1\n",
      "Correct exploratory action for the escape. I return 1\n",
      "Server response is 1\n",
      "I received action 1: \" and \"1\"=\"2\n",
      "Correct exploratory action for the escape. I return 2\n",
      "Server response is 2\n",
      "I received action 2: \" union select 1#\n",
      "Query has the correct escape, but contains the wrong number of rows. I return 0\n",
      "Server response is 0\n",
      "I received action 3: \" union select 1 limit 1 offset 1#\n",
      "Query has the correct escape, but contains the wrong number of rows. I return 0\n",
      "Server response is 0\n",
      "I received action 4: \" union select 1,2#\n",
      "Query has the correct escape, but contains the wrong number of rows. I return 0\n",
      "Server response is 0\n",
      "I received action 5: \" union select 1,2 limit 1 offset 1#\n",
      "Query has the correct escape, but contains the wrong number of rows. I return 0\n",
      "Server response is 0\n",
      "I received action 6: \" union select 1,2,3#\n",
      "Query has the correct escape, but contains the wrong number of rows. I return 0\n",
      "Server response is 0\n",
      "I received action 7: \" union select 1,2,3 limit 1 offset 1#\n",
      "Query has the correct escape, but contains the wrong number of rows. I return 0\n",
      "Server response is 0\n",
      "I received action 8: \" union select 1,2,3,4#\n",
      "Query has the correct escape, but contains the wrong number of rows. I return 0\n",
      "Server response is 0\n",
      "I received action 9: \" union select 1,2,3,4 limit 1 offset 1#\n",
      "Query has the correct escape, but contains the wrong number of rows. I return 0\n",
      "Server response is 0\n",
      "I received action 10: \" union select 1,2,3,4,5#\n",
      "Query with correct number of rows\n",
      "Server response is 4\n",
      "I received action 11: \" union select 1,2,3,4,5 limit 1 offset 1#\n",
      "Query with correct number of rows\n",
      "Server response is 4\n",
      "I received action 0: \" and \"1\"=\"1\n",
      "Correct exploratory action for the escape. I return 1\n",
      "Server response is 1\n",
      "I received action 1: \" and \"1\"=\"2\n",
      "Correct exploratory action for the escape. I return 2\n",
      "Server response is 2\n",
      "I received action 2: \" union select 1#\n",
      "Query has the correct escape, but contains the wrong number of rows. I return 0\n",
      "Server response is 0\n",
      "I received action 3: \" union select 1 limit 1 offset 1#\n",
      "Query has the correct escape, but contains the wrong number of rows. I return 0\n",
      "Server response is 0\n",
      "I received action 4: \" union select 1,2#\n",
      "Query has the correct escape, but contains the wrong number of rows. I return 0\n",
      "Server response is 0\n",
      "I received action 5: \" union select 1,2 limit 1 offset 1#\n",
      "Query has the correct escape, but contains the wrong number of rows. I return 0\n",
      "Server response is 0\n",
      "I received action 6: \" union select 1,2,3#\n",
      "Query has the correct escape, but contains the wrong number of rows. I return 0\n",
      "Server response is 0\n",
      "I received action 7: \" union select 1,2,3 limit 1 offset 1#\n",
      "Query has the correct escape, but contains the wrong number of rows. I return 0\n",
      "Server response is 0\n",
      "I received action 8: \" union select 1,2,3,4#\n",
      "Query has the correct escape, but contains the wrong number of rows. I return 0\n",
      "Server response is 0\n",
      "I received action 9: \" union select 1,2,3,4 limit 1 offset 1#\n",
      "Query has the correct escape, but contains the wrong number of rows. I return 0\n",
      "Server response is 0\n",
      "I received action 10: \" union select 1,2,3,4,5#\n",
      "Query with correct number of rows\n",
      "Server response is 4\n",
      "I received action 11: \" union select 1,2,3,4,5 limit 1 offset 1#\n",
      "Query with correct number of rows\n",
      "Server response is 4\n",
      "I received action 12: \" union select flag from Flagtable limit 1 offset 2#\n",
      "Query has the correct escape, but contains the wrong number of rows. I return 0\n",
      "Server response is 0\n",
      "I received action 13: \" union select flag,flag from Flagtable limit 1 offset 2#\n",
      "Query has the correct escape, but contains the wrong number of rows. I return 0\n",
      "Server response is 0\n",
      "I received action 0: \" and \"1\"=\"1\n",
      "Correct exploratory action for the escape. I return 1\n",
      "Server response is 1\n",
      "I received action 1: \" and \"1\"=\"2\n",
      "Correct exploratory action for the escape. I return 2\n",
      "Server response is 2\n",
      "I received action 2: \" union select 1#\n",
      "Query has the correct escape, but contains the wrong number of rows. I return 0\n",
      "Server response is 0\n",
      "I received action 3: \" union select 1 limit 1 offset 1#\n",
      "Query has the correct escape, but contains the wrong number of rows. I return 0\n",
      "Server response is 0\n",
      "I received action 4: \" union select 1,2#\n",
      "Query has the correct escape, but contains the wrong number of rows. I return 0\n",
      "Server response is 0\n",
      "I received action 5: \" union select 1,2 limit 1 offset 1#\n",
      "Query has the correct escape, but contains the wrong number of rows. I return 0\n",
      "Server response is 0\n",
      "I received action 6: \" union select 1,2,3#\n",
      "Query has the correct escape, but contains the wrong number of rows. I return 0\n",
      "Server response is 0\n",
      "I received action 7: \" union select 1,2,3 limit 1 offset 1#\n",
      "Query has the correct escape, but contains the wrong number of rows. I return 0\n",
      "Server response is 0\n",
      "I received action 8: \" union select 1,2,3,4#\n",
      "Query has the correct escape, but contains the wrong number of rows. I return 0\n",
      "Server response is 0\n",
      "I received action 9: \" union select 1,2,3,4 limit 1 offset 1#\n",
      "Query has the correct escape, but contains the wrong number of rows. I return 0\n",
      "Server response is 0\n",
      "I received action 10: \" union select 1,2,3,4,5#\n",
      "Query with correct number of rows\n",
      "Server response is 4\n",
      "I received action 11: \" union select 1,2,3,4,5 limit 1 offset 1#\n",
      "Query with correct number of rows\n",
      "Server response is 4\n",
      "I received action 12: \" union select flag from Flagtable limit 1 offset 2#\n",
      "Query has the correct escape, but contains the wrong number of rows. I return 0\n",
      "Server response is 0\n",
      "I received action 13: \" union select flag,flag from Flagtable limit 1 offset 2#\n",
      "Query has the correct escape, but contains the wrong number of rows. I return 0\n",
      "Server response is 0\n",
      "I received action 14: \" union select flag,flag,flag from Flagtable limit 1 offset 2#\n",
      "Query has the correct escape, but contains the wrong number of rows. I return 0\n",
      "Server response is 0\n",
      "I received action 0: \" and \"1\"=\"1\n",
      "Correct exploratory action for the escape. I return 1\n",
      "Server response is 1\n",
      "I received action 1: \" and \"1\"=\"2\n",
      "Correct exploratory action for the escape. I return 2\n",
      "Server response is 2\n",
      "I received action 2: \" union select 1#\n",
      "Query has the correct escape, but contains the wrong number of rows. I return 0\n",
      "Server response is 0\n",
      "I received action 3: \" union select 1 limit 1 offset 1#\n",
      "Query has the correct escape, but contains the wrong number of rows. I return 0\n",
      "Server response is 0\n",
      "I received action 4: \" union select 1,2#\n",
      "Query has the correct escape, but contains the wrong number of rows. I return 0\n",
      "Server response is 0\n",
      "I received action 35:  and 1=2#\n",
      "Query is syntactically wrong. I return -1\n",
      "Server response is -1\n",
      "I received action 0: \" and \"1\"=\"1\n",
      "Correct exploratory action for the escape. I return 1\n",
      "Server response is 1\n",
      "I received action 1: \" and \"1\"=\"2\n",
      "Correct exploratory action for the escape. I return 2\n",
      "Server response is 2\n",
      "I received action 2: \" union select 1#\n",
      "Query has the correct escape, but contains the wrong number of rows. I return 0\n",
      "Server response is 0\n",
      "I received action 3: \" union select 1 limit 1 offset 1#\n",
      "Query has the correct escape, but contains the wrong number of rows. I return 0\n",
      "Server response is 0\n",
      "I received action 4: \" union select 1,2#\n",
      "Query has the correct escape, but contains the wrong number of rows. I return 0\n",
      "Server response is 0\n",
      "I received action 5: \" union select 1,2 limit 1 offset 1#\n",
      "Query has the correct escape, but contains the wrong number of rows. I return 0\n",
      "Server response is 0\n",
      "I received action 6: \" union select 1,2,3#\n",
      "Query has the correct escape, but contains the wrong number of rows. I return 0\n",
      "Server response is 0\n",
      "I received action 7: \" union select 1,2,3 limit 1 offset 1#\n",
      "Query has the correct escape, but contains the wrong number of rows. I return 0\n",
      "Server response is 0\n",
      "I received action 8: \" union select 1,2,3,4#\n",
      "Query has the correct escape, but contains the wrong number of rows. I return 0\n",
      "Server response is 0\n",
      "I received action 9: \" union select 1,2,3,4 limit 1 offset 1#\n",
      "Query has the correct escape, but contains the wrong number of rows. I return 0\n",
      "Server response is 0\n",
      "I received action 10: \" union select 1,2,3,4,5#\n",
      "Query with correct number of rows\n",
      "Server response is 4\n",
      "I received action 11: \" union select 1,2,3,4,5 limit 1 offset 1#\n",
      "Query with correct number of rows\n",
      "Server response is 4\n",
      "I received action 12: \" union select flag from Flagtable limit 1 offset 2#\n",
      "Query has the correct escape, but contains the wrong number of rows. I return 0\n",
      "Server response is 0\n",
      "I received action 13: \" union select flag,flag from Flagtable limit 1 offset 2#\n",
      "Query has the correct escape, but contains the wrong number of rows. I return 0\n",
      "Server response is 0\n",
      "I received action 14: \" union select flag,flag,flag from Flagtable limit 1 offset 2#\n",
      "Query has the correct escape, but contains the wrong number of rows. I return 0\n",
      "Server response is 0\n",
      "I received action 15: \" union select flag,flag,flag,flag from Flagtable limit 1 offset 2#\n",
      "Query has the correct escape, but contains the wrong number of rows. I return 0\n",
      "Server response is 0\n",
      "I received action 0: \" and \"1\"=\"1\n",
      "Correct exploratory action for the escape. I return 1\n",
      "Server response is 1\n",
      "I received action 1: \" and \"1\"=\"2\n",
      "Correct exploratory action for the escape. I return 2\n",
      "Server response is 2\n",
      "I received action 2: \" union select 1#\n",
      "Query has the correct escape, but contains the wrong number of rows. I return 0\n",
      "Server response is 0\n",
      "I received action 3: \" union select 1 limit 1 offset 1#\n",
      "Query has the correct escape, but contains the wrong number of rows. I return 0\n",
      "Server response is 0\n",
      "I received action 4: \" union select 1,2#\n",
      "Query has the correct escape, but contains the wrong number of rows. I return 0\n",
      "Server response is 0\n",
      "I received action 5: \" union select 1,2 limit 1 offset 1#\n",
      "Query has the correct escape, but contains the wrong number of rows. I return 0\n",
      "Server response is 0\n",
      "I received action 6: \" union select 1,2,3#\n",
      "Query has the correct escape, but contains the wrong number of rows. I return 0\n",
      "Server response is 0\n",
      "I received action 7: \" union select 1,2,3 limit 1 offset 1#\n",
      "Query has the correct escape, but contains the wrong number of rows. I return 0\n",
      "Server response is 0\n",
      "I received action 8: \" union select 1,2,3,4#\n",
      "Query has the correct escape, but contains the wrong number of rows. I return 0\n",
      "Server response is 0\n",
      "I received action 9: \" union select 1,2,3,4 limit 1 offset 1#\n",
      "Query has the correct escape, but contains the wrong number of rows. I return 0\n",
      "Server response is 0\n",
      "I received action 10: \" union select 1,2,3,4,5#\n",
      "Query with correct number of rows\n",
      "Server response is 4\n",
      "I received action 11: \" union select 1,2,3,4,5 limit 1 offset 1#\n",
      "Query with correct number of rows\n",
      "Server response is 4\n",
      "I received action 12: \" union select flag from Flagtable limit 1 offset 2#\n",
      "Query has the correct escape, but contains the wrong number of rows. I return 0\n",
      "Server response is 0\n",
      "I received action 13: \" union select flag,flag from Flagtable limit 1 offset 2#\n",
      "Query has the correct escape, but contains the wrong number of rows. I return 0\n",
      "Server response is 0\n",
      "I received action 14: \" union select flag,flag,flag from Flagtable limit 1 offset 2#\n",
      "Query has the correct escape, but contains the wrong number of rows. I return 0\n",
      "Server response is 0\n",
      "I received action 15: \" union select flag,flag,flag,flag from Flagtable limit 1 offset 2#\n",
      "Query has the correct escape, but contains the wrong number of rows. I return 0\n",
      "Server response is 0\n",
      "I received action 16: \" union select flag,flag,flag,flag,flag from Flagtable limit 1 offset 2#\n",
      "Flag captured. I return 3\n",
      "Server response is 3\n"
     ]
    },
    {
     "data": {
      "text/plain": [
       "True"
      ]
     },
     "execution_count": 4,
     "metadata": {},
     "output_type": "execute_result"
    }
   ],
   "source": [
    "agt.reset(env)\n",
    "agt.run_episode()"
   ]
  },
  {
   "cell_type": "markdown",
   "metadata": {},
   "source": [
    "We then take a look at some statistics of the agent: its Q-table, the number of its entries, the number of steps taken, and the amount of reward."
   ]
  },
  {
   "cell_type": "code",
   "execution_count": 5,
   "metadata": {},
   "outputs": [
    {
     "data": {
      "text/plain": [
       "{(): array([0.89, 1.  , 1.  , 1.  , 1.  , 1.  , 1.  , 1.  , 1.  , 1.  , 1.  ,\n",
       "        1.  , 1.  , 1.  , 1.  , 1.  , 1.  , 1.  , 1.  , 1.  , 1.  , 1.  ,\n",
       "        1.  , 1.  , 1.  , 1.  , 1.  , 1.  , 1.  , 1.  , 1.  , 1.  , 1.  ,\n",
       "        1.  , 1.  , 1.  , 1.  , 1.  , 1.  , 1.  , 1.  , 1.  , 1.  , 1.  ,\n",
       "        1.  , 1.  , 1.  , 1.  , 1.  , 1.  , 1.  ]),\n",
       " (0,): array([0.89, 0.89, 1.  , 1.  , 1.  , 1.  , 1.  , 1.  , 1.  , 1.  , 1.  ,\n",
       "        1.  , 1.  , 1.  , 1.  , 1.  , 1.  , 1.  , 1.  , 1.  , 1.  , 1.  ,\n",
       "        1.  , 1.  , 1.  , 1.  , 1.  , 1.  , 1.  , 1.  , 1.  , 1.  , 1.  ,\n",
       "        1.  , 1.  , 1.  , 1.  , 1.  , 1.  , 1.  , 1.  , 1.  , 1.  , 1.  ,\n",
       "        1.  , 1.  , 1.  , 1.  , 1.  , 1.  , 1.  ]),\n",
       " (-1,\n",
       "  0): array([0.89, 0.89, 0.89, 1.  , 1.  , 1.  , 1.  , 1.  , 1.  , 1.  , 1.  ,\n",
       "        1.  , 1.  , 1.  , 1.  , 1.  , 1.  , 1.  , 1.  , 1.  , 1.  , 1.  ,\n",
       "        1.  , 1.  , 1.  , 1.  , 1.  , 1.  , 1.  , 1.  , 1.  , 1.  , 1.  ,\n",
       "        1.  , 1.  , 1.  , 1.  , 1.  , 1.  , 1.  , 1.  , 1.  , 1.  , 1.  ,\n",
       "        1.  , 1.  , 1.  , 1.  , 1.  , 1.  , 1.  ]),\n",
       " (-2,\n",
       "  -1,\n",
       "  0): array([0.89, 0.89, 0.89, 0.89, 1.  , 1.  , 1.  , 1.  , 1.  , 1.  , 1.  ,\n",
       "        1.  , 1.  , 1.  , 1.  , 1.  , 1.  , 1.  , 1.  , 1.  , 1.  , 1.  ,\n",
       "        1.  , 1.  , 1.  , 1.  , 1.  , 1.  , 1.  , 1.  , 1.  , 1.  , 1.  ,\n",
       "        1.  , 1.  , 1.  , 1.  , 1.  , 1.  , 1.  , 1.  , 1.  , 1.  , 1.  ,\n",
       "        1.  , 1.  , 1.  , 1.  , 1.  , 1.  , 1.  ]),\n",
       " (-3,\n",
       "  -2,\n",
       "  -1,\n",
       "  0): array([0.89, 0.89, 0.89, 0.89, 0.89, 1.  , 1.  , 1.  , 1.  , 1.  , 1.  ,\n",
       "        1.  , 1.  , 1.  , 1.  , 1.  , 1.  , 1.  , 1.  , 1.  , 1.  , 1.  ,\n",
       "        1.  , 1.  , 1.  , 1.  , 1.  , 1.  , 1.  , 1.  , 1.  , 1.  , 1.  ,\n",
       "        1.  , 1.  , 1.  , 1.  , 1.  , 1.  , 1.  , 1.  , 1.  , 1.  , 1.  ,\n",
       "        1.  , 1.  , 1.  , 1.  , 1.  , 1.  , 1.  ]),\n",
       " (-4,\n",
       "  -3,\n",
       "  -2,\n",
       "  -1,\n",
       "  0): array([0.89, 0.89, 0.89, 0.89, 0.89, 0.89, 1.  , 1.  , 1.  , 1.  , 1.  ,\n",
       "        1.  , 1.  , 1.  , 1.  , 1.  , 1.  , 1.  , 1.  , 1.  , 1.  , 1.  ,\n",
       "        1.  , 1.  , 1.  , 1.  , 1.  , 1.  , 1.  , 1.  , 1.  , 1.  , 1.  ,\n",
       "        1.  , 1.  , 1.  , 1.  , 1.  , 1.  , 1.  , 1.  , 1.  , 1.  , 1.  ,\n",
       "        1.  , 1.  , 1.  , 1.  , 1.  , 1.  , 1.  ]),\n",
       " (-5,\n",
       "  -4,\n",
       "  -3,\n",
       "  -2,\n",
       "  -1,\n",
       "  0): array([0.89, 0.89, 0.89, 0.89, 0.89, 0.89, 0.89, 1.  , 1.  , 1.  , 1.  ,\n",
       "        1.  , 1.  , 1.  , 1.  , 1.  , 1.  , 1.  , 1.  , 1.  , 1.  , 1.  ,\n",
       "        1.  , 1.  , 1.  , 1.  , 1.  , 1.  , 1.  , 1.  , 1.  , 1.  , 1.  ,\n",
       "        1.  , 1.  , 1.  , 1.  , 1.  , 1.  , 1.  , 1.  , 1.  , 1.  , 1.  ,\n",
       "        1.  , 1.  , 1.  , 1.  , 1.  , 1.  , 1.  ]),\n",
       " (-6,\n",
       "  -5,\n",
       "  -4,\n",
       "  -3,\n",
       "  -2,\n",
       "  -1,\n",
       "  0): array([0.89, 0.89, 0.89, 0.89, 0.89, 0.89, 0.89, 0.89, 1.  , 1.  , 1.  ,\n",
       "        1.  , 1.  , 1.  , 1.  , 1.  , 1.  , 1.  , 1.  , 1.  , 1.  , 1.  ,\n",
       "        1.  , 1.  , 1.  , 1.  , 1.  , 1.  , 1.  , 1.  , 1.  , 1.  , 1.  ,\n",
       "        1.  , 1.  , 1.  , 1.  , 1.  , 1.  , 1.  , 1.  , 1.  , 1.  , 1.  ,\n",
       "        1.  , 1.  , 1.  , 1.  , 1.  , 1.  , 1.  ]),\n",
       " (-7,\n",
       "  -6,\n",
       "  -5,\n",
       "  -4,\n",
       "  -3,\n",
       "  -2,\n",
       "  -1,\n",
       "  0): array([0.89, 0.89, 0.89, 0.89, 0.89, 0.89, 0.89, 0.89, 0.89, 1.  , 1.  ,\n",
       "        1.  , 1.  , 1.  , 1.  , 1.  , 1.  , 1.  , 1.  , 1.  , 1.  , 1.  ,\n",
       "        1.  , 1.  , 1.  , 1.  , 1.  , 1.  , 1.  , 1.  , 1.  , 1.  , 1.  ,\n",
       "        1.  , 1.  , 1.  , 1.  , 1.  , 1.  , 1.  , 1.  , 1.  , 1.  , 1.  ,\n",
       "        1.  , 1.  , 1.  , 1.  , 1.  , 1.  , 1.  ]),\n",
       " (-8,\n",
       "  -7,\n",
       "  -6,\n",
       "  -5,\n",
       "  -4,\n",
       "  -3,\n",
       "  -2,\n",
       "  -1,\n",
       "  0): array([0.89, 0.89, 0.89, 0.89, 0.89, 0.89, 0.89, 0.89, 0.89, 0.89, 1.  ,\n",
       "        1.  , 1.  , 1.  , 1.  , 1.  , 1.  , 1.  , 1.  , 1.  , 1.  , 1.  ,\n",
       "        1.  , 1.  , 1.  , 1.  , 1.  , 1.  , 1.  , 1.  , 1.  , 1.  , 1.  ,\n",
       "        1.  , 1.  , 1.  , 1.  , 1.  , 1.  , 1.  , 1.  , 1.  , 1.  , 1.  ,\n",
       "        1.  , 1.  , 1.  , 1.  , 1.  , 1.  , 1.  ]),\n",
       " (-9,\n",
       "  -8,\n",
       "  -7,\n",
       "  -6,\n",
       "  -5,\n",
       "  -4,\n",
       "  -3,\n",
       "  -2,\n",
       "  -1,\n",
       "  0): array([1.  , 1.  , 1.  , 1.  , 1.  , 1.  , 1.  , 1.  , 1.  , 1.  , 1.  ,\n",
       "        1.  , 0.89, 1.  , 1.  , 1.  , 1.  , 1.  , 1.  , 1.  , 1.  , 1.  ,\n",
       "        1.  , 1.  , 1.  , 1.  , 1.  , 1.  , 1.  , 1.  , 1.  , 1.  , 1.  ,\n",
       "        1.  , 1.  , 1.  , 1.  , 1.  , 1.  , 1.  , 1.  , 1.  , 1.  , 1.  ,\n",
       "        1.  , 1.  , 1.  , 1.  , 1.  , 1.  , 1.  ]),\n",
       " (-12,\n",
       "  -9,\n",
       "  -8,\n",
       "  -7,\n",
       "  -6,\n",
       "  -5,\n",
       "  -4,\n",
       "  -3,\n",
       "  -2,\n",
       "  -1,\n",
       "  0): array([0.89, 0.89, 0.89, 0.89, 0.89, 0.89, 0.89, 0.89, 0.89, 0.89, 0.89,\n",
       "        1.  , 1.  , 1.  , 1.  , 1.  , 1.  , 1.  , 1.  , 1.  , 1.  , 1.  ,\n",
       "        1.  , 1.  , 1.  , 1.  , 1.  , 1.  , 1.  , 1.  , 1.  , 1.  , 1.  ,\n",
       "        1.  , 1.  , 1.  , 1.  , 1.  , 1.  , 1.  , 1.  , 1.  , 1.  , 1.  ,\n",
       "        1.  , 1.  , 1.  , 1.  , 1.  , 1.  , 1.  ]),\n",
       " (-12,\n",
       "  -9,\n",
       "  -8,\n",
       "  -7,\n",
       "  -6,\n",
       "  -5,\n",
       "  -4,\n",
       "  -3,\n",
       "  -2,\n",
       "  -1,\n",
       "  0,\n",
       "  10): array([0.89, 0.89, 0.89, 0.89, 0.89, 0.89, 0.89, 0.89, 0.89, 0.89, 0.89,\n",
       "        0.89, 1.  , 1.  , 1.  , 1.  , 1.  , 1.  , 1.  , 1.  , 1.  , 1.  ,\n",
       "        1.  , 1.  , 1.  , 1.  , 1.  , 1.  , 1.  , 1.  , 1.  , 1.  , 1.  ,\n",
       "        1.  , 1.  , 1.  , 1.  , 1.  , 1.  , 1.  , 1.  , 1.  , 1.  , 1.  ,\n",
       "        1.  , 1.  , 1.  , 1.  , 1.  , 1.  , 1.  ]),\n",
       " (-12,\n",
       "  -9,\n",
       "  -8,\n",
       "  -7,\n",
       "  -6,\n",
       "  -5,\n",
       "  -4,\n",
       "  -3,\n",
       "  -2,\n",
       "  -1,\n",
       "  0,\n",
       "  10,\n",
       "  11): array([0.89, 0.89, 0.89, 0.89, 0.89, 0.89, 0.89, 0.89, 0.89, 0.89, 0.89,\n",
       "        0.89, 0.89, 0.89, 1.  , 1.  , 1.  , 1.  , 1.  , 1.  , 1.  , 1.  ,\n",
       "        1.  , 1.  , 1.  , 1.  , 1.  , 1.  , 1.  , 1.  , 1.  , 1.  , 1.  ,\n",
       "        1.  , 1.  , 1.  , 1.  , 1.  , 1.  , 1.  , 1.  , 1.  , 1.  , 1.  ,\n",
       "        1.  , 1.  , 1.  , 1.  , 1.  , 1.  , 1.  ]),\n",
       " (-13,\n",
       "  -12,\n",
       "  -9,\n",
       "  -8,\n",
       "  -7,\n",
       "  -6,\n",
       "  -5,\n",
       "  -4,\n",
       "  -3,\n",
       "  -2,\n",
       "  -1,\n",
       "  0,\n",
       "  10,\n",
       "  11): array([0.89, 0.89, 0.89, 0.89, 0.89, 0.89, 0.89, 0.89, 0.89, 0.89, 0.89,\n",
       "        0.89, 0.89, 0.89, 0.89, 1.  , 1.  , 1.  , 1.  , 1.  , 1.  , 1.  ,\n",
       "        1.  , 1.  , 1.  , 1.  , 1.  , 1.  , 1.  , 1.  , 1.  , 1.  , 1.  ,\n",
       "        1.  , 1.  , 1.  , 1.  , 1.  , 1.  , 1.  , 1.  , 1.  , 1.  , 1.  ,\n",
       "        1.  , 1.  , 1.  , 1.  , 1.  , 1.  , 1.  ]),\n",
       " (-14,\n",
       "  -13,\n",
       "  -12,\n",
       "  -9,\n",
       "  -8,\n",
       "  -7,\n",
       "  -6,\n",
       "  -5,\n",
       "  -4,\n",
       "  -3,\n",
       "  -2,\n",
       "  -1,\n",
       "  0,\n",
       "  10,\n",
       "  11): array([0.89, 0.89, 0.89, 0.89, 0.89, 1.  , 1.  , 1.  , 1.  , 1.  , 1.  ,\n",
       "        1.  , 1.  , 1.  , 1.  , 1.  , 1.  , 1.  , 1.  , 1.  , 1.  , 1.  ,\n",
       "        1.  , 1.  , 1.  , 1.  , 1.  , 1.  , 1.  , 1.  , 1.  , 1.  , 1.  ,\n",
       "        1.  , 1.  , 0.89, 1.  , 1.  , 1.  , 1.  , 1.  , 1.  , 1.  , 1.  ,\n",
       "        1.  , 1.  , 1.  , 1.  , 1.  , 1.  , 1.  ]),\n",
       " (-35,\n",
       "  -14,\n",
       "  -13,\n",
       "  -12,\n",
       "  -9,\n",
       "  -8,\n",
       "  -7,\n",
       "  -6,\n",
       "  -5,\n",
       "  -4,\n",
       "  -3,\n",
       "  -2,\n",
       "  -1,\n",
       "  0,\n",
       "  10,\n",
       "  11): array([0.89, 0.89, 0.89, 0.89, 0.89, 0.89, 0.89, 0.89, 0.89, 0.89, 0.89,\n",
       "        0.89, 0.89, 0.89, 0.89, 0.89, 1.  , 1.  , 1.  , 1.  , 1.  , 1.  ,\n",
       "        1.  , 1.  , 1.  , 1.  , 1.  , 1.  , 1.  , 1.  , 1.  , 1.  , 1.  ,\n",
       "        1.  , 1.  , 1.  , 1.  , 1.  , 1.  , 1.  , 1.  , 1.  , 1.  , 1.  ,\n",
       "        1.  , 1.  , 1.  , 1.  , 1.  , 1.  , 1.  ]),\n",
       " (-35,\n",
       "  -15,\n",
       "  -14,\n",
       "  -13,\n",
       "  -12,\n",
       "  -9,\n",
       "  -8,\n",
       "  -7,\n",
       "  -6,\n",
       "  -5,\n",
       "  -4,\n",
       "  -3,\n",
       "  -2,\n",
       "  -1,\n",
       "  0,\n",
       "  10,\n",
       "  11): array([0.89, 0.89, 0.89, 0.89, 0.89, 0.89, 0.89, 0.89, 0.89, 0.89, 0.89,\n",
       "        0.89, 0.89, 0.89, 0.89, 0.89, 1.99, 1.  , 1.  , 1.  , 1.  , 1.  ,\n",
       "        1.  , 1.  , 1.  , 1.  , 1.  , 1.  , 1.  , 1.  , 1.  , 1.  , 1.  ,\n",
       "        1.  , 1.  , 1.  , 1.  , 1.  , 1.  , 1.  , 1.  , 1.  , 1.  , 1.  ,\n",
       "        1.  , 1.  , 1.  , 1.  , 1.  , 1.  , 1.  ]),\n",
       " (-35,\n",
       "  -15,\n",
       "  -14,\n",
       "  -13,\n",
       "  -12,\n",
       "  -9,\n",
       "  -8,\n",
       "  -7,\n",
       "  -6,\n",
       "  -5,\n",
       "  -4,\n",
       "  -3,\n",
       "  -2,\n",
       "  -1,\n",
       "  0,\n",
       "  10,\n",
       "  11,\n",
       "  16): array([1., 1., 1., 1., 1., 1., 1., 1., 1., 1., 1., 1., 1., 1., 1., 1., 1.,\n",
       "        1., 1., 1., 1., 1., 1., 1., 1., 1., 1., 1., 1., 1., 1., 1., 1., 1.,\n",
       "        1., 1., 1., 1., 1., 1., 1., 1., 1., 1., 1., 1., 1., 1., 1., 1., 1.])}"
      ]
     },
     "execution_count": 5,
     "metadata": {},
     "output_type": "execute_result"
    }
   ],
   "source": [
    "agt.Q"
   ]
  },
  {
   "cell_type": "code",
   "execution_count": 6,
   "metadata": {},
   "outputs": [
    {
     "name": "stdout",
     "output_type": "stream",
     "text": [
      "(19, (51,))\n"
     ]
    }
   ],
   "source": [
    "print(ut.getdictshape(agt.Q))"
   ]
  },
  {
   "cell_type": "code",
   "execution_count": 7,
   "metadata": {},
   "outputs": [
    {
     "name": "stdout",
     "output_type": "stream",
     "text": [
      "147\n"
     ]
    }
   ],
   "source": [
    "print(agt.steps)"
   ]
  },
  {
   "cell_type": "code",
   "execution_count": 8,
   "metadata": {},
   "outputs": [
    {
     "name": "stdout",
     "output_type": "stream",
     "text": [
      "-136\n"
     ]
    }
   ],
   "source": [
    "print(agt.rewards)"
   ]
  },
  {
   "cell_type": "markdown",
   "metadata": {},
   "source": [
    "## Training the agent\n",
    "\n",
    "We train the agent over $10^4$ episodes."
   ]
  },
  {
   "cell_type": "code",
   "execution_count": 9,
   "metadata": {},
   "outputs": [
    {
     "name": "stderr",
     "output_type": "stream",
     "text": [
      "100%|██████████| 10000/10000 [01:31<00:00, 109.75it/s]\n"
     ]
    }
   ],
   "source": [
    "nepisodes = 10**4\n",
    "\n",
    "agt = agn.Agent(const.actions,verbose=False)\n",
    "agt.set_learning_options(exploration=0.02, \n",
    "                         learningrate=0.1, \n",
    "                         discount=0.9, max_step = 1000)\n",
    "\n",
    "steps = []; rewards = []; states = []\n",
    "for _ in tqdm(range(nepisodes)):\n",
    "    env = SQLenv.mockSQLenv(verbose=False)\n",
    "    \n",
    "    agt.reset(env)\n",
    "    agt.run_episode()\n",
    "    \n",
    "    steps.append(agt.steps)\n",
    "    rewards.append(agt.rewards)\n",
    "    states.append(ut.getdictshape(agt.Q)[0])    "
   ]
  },
  {
   "cell_type": "markdown",
   "metadata": {},
   "source": [
    "We save its Q-matrix."
   ]
  },
  {
   "cell_type": "code",
   "execution_count": 10,
   "metadata": {},
   "outputs": [
    {
     "data": {
      "text/plain": [
       "['ignore_simul1_20201203124000550845.pkl']"
      ]
     },
     "execution_count": 10,
     "metadata": {},
     "output_type": "execute_result"
    }
   ],
   "source": [
    "timestamp = datetime.datetime.now().strftime(\"%Y%m%d%H%M%S%f\")\n",
    "joblib.dump(agt.Q,'ignore_simul1_'+timestamp+'.pkl')"
   ]
  },
  {
   "cell_type": "markdown",
   "metadata": {},
   "source": [
    "## Analyzing the agent\n",
    "\n",
    "We plot the variation in the number of states in the Q-matrix"
   ]
  },
  {
   "cell_type": "code",
   "execution_count": 11,
   "metadata": {},
   "outputs": [
    {
     "data": {
      "text/plain": [
       "[<matplotlib.lines.Line2D at 0x7f6fed590f10>]"
      ]
     },
     "execution_count": 11,
     "metadata": {},
     "output_type": "execute_result"
    },
    {
     "data": {
      "image/png": "[encoded data removed]",
      "text/plain": [
       "<Figure size 432x288 with 1 Axes>"
      ]
     },
     "metadata": {
      "needs_background": "light"
     },
     "output_type": "display_data"
    }
   ],
   "source": [
    "plt.plot(states)"
   ]
  },
  {
   "cell_type": "markdown",
   "metadata": {},
   "source": [
    "We plot the number of steps per episode (averaged over 100 consecutive episodes and smoothing)"
   ]
  },
  {
   "cell_type": "code",
   "execution_count": 12,
   "metadata": {},
   "outputs": [
    {
     "data": {
      "text/plain": [
       "[<matplotlib.lines.Line2D at 0x7f6fed5c4520>]"
      ]
     },
     "execution_count": 12,
     "metadata": {},
     "output_type": "execute_result"
    },
    {
     "data": {
      "image/png": "[encoded data removed]",
      "text/plain": [
       "<Figure size 432x288 with 1 Axes>"
      ]
     },
     "metadata": {
      "needs_background": "light"
     },
     "output_type": "display_data"
    }
   ],
   "source": [
    "plt.plot(np.mean(np.array(steps).reshape(-1,100),axis=1))"
   ]
  },
  {
   "cell_type": "code",
   "execution_count": 16,
   "metadata": {},
   "outputs": [
    {
     "data": {
      "text/plain": [
       "[<matplotlib.lines.Line2D at 0x7f6fd6ee65b0>]"
      ]
     },
     "execution_count": 16,
     "metadata": {},
     "output_type": "execute_result"
    },
    {
     "data": {
      "image/png": "[encoded data removed]",
      "text/plain": [
       "<Figure size 432x288 with 1 Axes>"
      ]
     },
     "metadata": {
      "needs_background": "light"
     },
     "output_type": "display_data"
    }
   ],
   "source": [
    "plt.plot(SGfilter(steps,101,3))"
   ]
  },
  {
   "cell_type": "markdown",
   "metadata": {},
   "source": [
    "We plot the amount of reward per episode (averaged over 100 consecutive episodes)"
   ]
  },
  {
   "cell_type": "code",
   "execution_count": 17,
   "metadata": {},
   "outputs": [
    {
     "data": {
      "text/plain": [
       "[<matplotlib.lines.Line2D at 0x7f6fd70244c0>]"
      ]
     },
     "execution_count": 17,
     "metadata": {},
     "output_type": "execute_result"
    },
    {
     "data": {
      "image/png": "[encoded data removed]",
      "text/plain": [
       "<Figure size 432x288 with 1 Axes>"
      ]
     },
     "metadata": {
      "needs_background": "light"
     },
     "output_type": "display_data"
    }
   ],
   "source": [
    "plt.plot(np.mean(np.array(rewards).reshape(-1,100),axis=1))"
   ]
  }
 ],
 "metadata": {
  "kernelspec": {
   "display_name": "Python 3",
   "language": "python",
   "name": "python3"
  },
  "language_info": {
   "codemirror_mode": {
    "name": "ipython",
    "version": 3
   },
   "file_extension": ".py",
   "mimetype": "text/x-python",
   "name": "python",
   "nbconvert_exporter": "python",
   "pygments_lexer": "ipython3",
   "version": "3.8.3"
  }
 },
 "nbformat": 4,
 "nbformat_minor": 4
}
